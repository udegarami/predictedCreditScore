{
 "cells": [
  {
   "cell_type": "code",
   "execution_count": 37,
   "id": "525245d8",
   "metadata": {},
   "outputs": [],
   "source": [
    "#Projet 7 \n",
    "\n",
    "#undersampling, and oversampling smooth or class weights \n",
    "#Area Under Curve pour estimer l'erreur\n",
    "#Flask ou fastAPI pour faire le API, faire interface avec Stremlit\n",
    "#Shap line values\n",
    "#trouver 10 clients plus proches avec KNN du client et voir\n",
    "# L’application de dashboard interactif répondant aux spécifications ci-dessus et l’API de prédiction du score, déployées chacunes sur le cloud.\n",
    "# Un dossier, géré via un outil de versioning de code contenant :\n",
    "# Le notebook ou code de la modélisation (du prétraitement à la prédiction), intégrant via MLFlow le tracking d’expérimentations et le stockage centralisé des modèles\n",
    "# Le code générant le dashboard\n",
    "# Le code permettant de déployer le modèle sous forme d'API\n",
    "# Pour les applications dashboard et API, un fichier introductif permettant de comprendre l'objectif du projet et le découpage des dossiers, et un fichier listant les packages utilisés seront présents dans les dossiers\n",
    "# Le tableau HTML d’analyse de data drift réalisé à partir d’evidently\n",
    "# Une note méthodologique décrivant :\n",
    "# La méthodologie d'entraînement du modèle (2 pages maximum)\n",
    "# Le traitement du déséquilibre des classes (1 page maximum)\n",
    "# La fonction coût métier, l'algorithme d'optimisation et la métrique d'évaluation (1 page maximum)\n",
    "# Un tableau de synthèse des résultats (1 page maximum)\n",
    "# L’interprétabilité globale et locale du modèle (1 page maximum)\n",
    "# Les limites et les améliorations possibles (1 page maximum)\n",
    "# L’analyse du Data Drift (1 page maximum)\n",
    "# Un support de présentation pour la soutenance, détaillant le travail réalisé (Powerpoint ou équivalent, 30slides maximum).\n",
    "# Des copies écran des commits, du dossier Github (+ lien vers ce dossier) et de l’exécution des tests unitaires, qui sont les preuves qu’un pipeline de déploiement continu a permis de déployer l’API, doivent être formalisés dans ce support de présentation.\n",
    "#Outils Open Source pour élaborer une plateforme MLOps\n",
    "#● MLFlow pour la gestion “d’expériences” et leur tracking lors de la phase d’entraînement des modèles, ainsi que la visualisation desrésultats avec MLFlow UI, pour le partager avec Chris\n",
    "#● MLFlow pour le stockage centralisé des modèles dans un “model registry” et le serving\n",
    "#● Git, logiciel de version de code, pour suivre les modifications ducode final de l’API de prédiction de tags à déployer\n",
    "#● Github pour stocker et partager sur le cloud le code de l’API, alimenté par un “push” Git et ainsi assurer une intégration continue\n",
    "#● Github Actions pour le déploiement continu et automatisé du code de l’API sur le cloud\n",
    "#● Pytest (ou Unittest) pour concevoir les tests unitaires et les exécuter de manière automatisée lors du build réalisé par GithubActions"
   ]
  },
  {
   "cell_type": "code",
   "execution_count": 1,
   "id": "f0609706",
   "metadata": {
    "scrolled": true
   },
   "outputs": [
    {
     "name": "stderr",
     "output_type": "stream",
     "text": [
      "/tmp/ipykernel_38877/1162043573.py:41: FutureWarning: The frame.append method is deprecated and will be removed from pandas in a future version. Use pandas.concat instead.\n",
      "  app = train.append(test, ignore_index=True)\n"
     ]
    }
   ],
   "source": [
    "# Load packages\n",
    "import numpy as np\n",
    "import pandas as pd\n",
    "import matplotlib.pyplot as plt\n",
    "import seaborn as sns\n",
    "import joblib\n",
    "from sklearn.preprocessing import LabelEncoder, OneHotEncoder, RobustScaler\n",
    "from sklearn.impute import SimpleImputer\n",
    "from sklearn.pipeline import Pipeline\n",
    "from sklearn.metrics import auc, roc_curve, roc_auc_score, make_scorer, fbeta_score\n",
    "from sklearn.model_selection import cross_val_score, cross_val_predict, StratifiedKFold\n",
    "from sklearn.calibration import calibration_curve, CalibratedClassifierCV\n",
    "from xgboost import XGBClassifier\n",
    "from xgboost import plot_importance\n",
    "from hashlib import sha256\n",
    "from imblearn.over_sampling import RandomOverSampler, SMOTE\n",
    "from imblearn.under_sampling import RandomUnderSampler\n",
    "from imblearn.pipeline import make_pipeline\n",
    "\n",
    "\n",
    "pd.options.display.max_columns = None\n",
    "\n",
    "# Plot settings\n",
    "%matplotlib inline\n",
    "%config InlineBackend.figure_format = 'svg'\n",
    "sns.set()\n",
    "\n",
    "# Load applications data\n",
    "path = ''#'dataset/'\n",
    "train = pd.read_csv(path + 'application_train.csv')\n",
    "test = pd.read_csv(path + 'application_test.csv')\n",
    "train_ids=train['SK_ID_CURR']\n",
    "test_ids=test['SK_ID_CURR']\n",
    "\n",
    "\n",
    "# Merge test and train into all application data\n",
    "train_o = train.copy()\n",
    "train['Test'] = False\n",
    "test['Test'] = True\n",
    "test['TARGET'] = np.nan\n",
    "app = train.append(test, ignore_index=True)\n",
    "\n",
    "# Remove entries with gender = XNA\n",
    "app = app[app['CODE_GENDER'] != 'XNA']\n",
    "# Remove entries with income type = maternity leave\n",
    "app = app[app['NAME_INCOME_TYPE'] != 'Maternity leave']\n",
    "# Remove entries with unknown family status\n",
    "app = app[app['NAME_FAMILY_STATUS'] != 'Unknown']\n",
    "app['DAYS_EMPLOYED'].replace(365243, np.nan, inplace=True)\n",
    "app['PROPORTION_LIFE_EMPLOYED'] = app['DAYS_EMPLOYED'] / app['DAYS_BIRTH']\n",
    "app['INCOME_TO_CREDIT_RATIO'] = app['AMT_INCOME_TOTAL'] / app['AMT_CREDIT'] \n",
    "app['INCOME_TO_ANNUITY_RATIO'] = app['AMT_INCOME_TOTAL'] / app['AMT_ANNUITY']\n",
    "app['INCOME_TO_ANNUITY_RATIO_BY_AGE'] = app['INCOME_TO_ANNUITY_RATIO'] * app['DAYS_BIRTH']\n",
    "app['CREDIT_TO_ANNUITY_RATIO'] = app['AMT_CREDIT'] / app['AMT_ANNUITY']\n",
    "app['CREDIT_TO_ANNUITY_RATIO_BY_AGE'] = app['CREDIT_TO_ANNUITY_RATIO'] * app['DAYS_BIRTH']\n",
    "app['INCOME_TO_FAMILYSIZE_RATIO'] = app['AMT_INCOME_TOTAL'] / app['CNT_FAM_MEMBERS']\n",
    "\n",
    "# Add indicator columns for empty values\n",
    "for col in app:\n",
    "    if col!='Test' and col!='TARGET':\n",
    "        app_null = app[col].isnull()\n",
    "        if app_null.sum()>0:\n",
    "            app[col+'_ISNULL'] = app_null\n",
    "\n",
    "# Label encoder\n",
    "le = LabelEncoder()\n",
    "\n",
    "# Label encode binary fearures in training set\n",
    "for col in app: \n",
    "    if col!='Test' and col!='TARGET' and app[col].dtype==object and app[col].nunique()==2:\n",
    "        if col+'_ISNULL' in app.columns: #missing values here?\n",
    "            app.loc[app[col+'_ISNULL'], col] = 'NaN'\n",
    "        app[col] = le.fit_transform(app[col])\n",
    "        if col+'_ISNULL' in app.columns: #re-remove missing vals\n",
    "            app.loc[app[col+'_ISNULL'], col] = np.nan            \n",
    "\n",
    "# Get categorical features to encode\n",
    "cat_features = []\n",
    "for col in app: \n",
    "    if col!='Test' and col!='TARGET' and app[col].dtype==object and app[col].nunique()>2:\n",
    "        cat_features.append(col)\n",
    "\n",
    "# One-hot encode categorical features in train set\n",
    "app = pd.get_dummies(app, columns=cat_features)\n",
    "\n",
    "# Hash columns\n",
    "hashes = dict()\n",
    "for col in app:\n",
    "    hashes[col] = sha256(app[col].values).hexdigest()\n",
    "    \n",
    "# Get list of duplicate column lists\n",
    "Ncol = app.shape[1] #number of columns\n",
    "dup_list = []\n",
    "dup_labels = -np.ones(Ncol)\n",
    "for i1 in range(Ncol):\n",
    "    if dup_labels[i1]<0: #if not already merged,\n",
    "        col1 = app.columns[i1]\n",
    "        t_dup = [] #list of duplicates matching col1\n",
    "        for i2 in range(i1+1, Ncol):\n",
    "            col2 = app.columns[i2]\n",
    "            if ( dup_labels[i2]<0 #not already merged\n",
    "                 and hashes[col1]==hashes[col2] #hashes match\n",
    "                 and app[col1].equals(app[col2])): #cols are equal\n",
    "                #then this is actually a duplicate\n",
    "                t_dup.append(col2)\n",
    "                dup_labels[i2] = i1\n",
    "        if len(t_dup)>0: #duplicates of col1 were found!\n",
    "            t_dup.append(col1)\n",
    "            dup_list.append(t_dup)\n",
    "        \n",
    "# Merge duplicate columns\n",
    "for iM in range(len(dup_list)):\n",
    "    new_name = 'Merged'+str(iM)\n",
    "    app[new_name] = app[dup_list[iM][0]].copy()\n",
    "    app.drop(columns=dup_list[iM], inplace=True)\n",
    "    #print('Merged', dup_list[iM], 'into', new_name)\n",
    "\n",
    "# Split data back into test + train\n",
    "train = app.loc[~app['Test'], :]\n",
    "test = app.loc[app['Test'], :]\n",
    "\n",
    "# Ensure all data is stored as floats\n",
    "train = train.astype(np.float32)\n",
    "test = test.astype(np.float32)\n",
    "\n",
    "# Target labels\n",
    "train_y = train['TARGET']\n",
    "\n",
    "# Remove test/train indicator column and target column\n",
    "train.drop(columns=['Test', 'TARGET'], inplace=True)\n",
    "test.drop(columns=['Test', 'TARGET'], inplace=True)\n",
    "\n",
    "test.reset_index(inplace=True)\n",
    "train.reset_index(inplace=True)\n",
    "\n",
    "test_orig = pd.read_csv(path + 'application_test.csv')\n",
    "train['ID']=train_ids\n",
    "#test.drop(columns=['SK_ID_CURR'])\n",
    "test['ID']=test_ids\n",
    "\n",
    "# Make SK_ID_CURR the index\n",
    "train.set_index('ID', inplace=True)\n",
    "test.set_index('ID', inplace=True)\n",
    "\n",
    "train.drop(columns=['index'], inplace=True)\n",
    "test.drop(columns=['index'], inplace=True)\n",
    "\n",
    "train.to_csv(path +'train_encoded.csv', index=False)\n",
    "test_encoded=test[['SK_ID_CURR','EXT_SOURCE_3','EXT_SOURCE_2','EXT_SOURCE_1','DAYS_EMPLOYED','AMT_INCOME_TOTAL','AMT_CREDIT','AMT_ANNUITY']]\n",
    "test_encoded.to_csv(path +'test_encoded_clean.csv', index=False)\n",
    "test.to_csv(path +'test_encoded.csv', index=False)"
   ]
  },
  {
   "cell_type": "code",
   "execution_count": null,
   "id": "47706e1b",
   "metadata": {
    "scrolled": false
   },
   "outputs": [],
   "source": [
    "import mlflow\n",
    "import mlflow.xgboost\n",
    "import pandas as pd\n",
    "import xgboost as xgb\n",
    "from sklearn.metrics import roc_auc_score, fbeta_score\n",
    "from mlflow.tracking import MlflowClient\n",
    "\n",
    "def train_xgboost(train_data, test_data, max_depth, learning_rate, n_estimators, gamma, subsample, colsample_bytree):\n",
    "    with mlflow.start_run():\n",
    "        # Train the XGBoost model\n",
    "        model = xgb.XGBClassifier(max_depth=int(max_depth),\n",
    "                                  learning_rate=learning_rate,\n",
    "                                  n_estimators=int(n_estimators),\n",
    "                                  gamma=gamma,\n",
    "                                  subsample=subsample,\n",
    "                                  colsample_bytree=colsample_bytree,\n",
    "                                  objective=\"binary:logistic\",\n",
    "                                  n_jobs=-1)\n",
    "        model.fit(train_data.drop(\"target\", axis=1), train_data[\"target\"])\n",
    "\n",
    "        # Make predictions on the test data\n",
    "        predictions = model.predict(test_data.drop(\"target\", axis=1))\n",
    "\n",
    "        # Log the model to the tracking server\n",
    "        mlflow.xgboost.log_model(model, \"model\")\n",
    "\n",
    "        # Calculate and log the AUC score\n",
    "        auc_score = roc_auc_score(test_data[\"target\"], predictions)\n",
    "        mlflow.log_metric(\"auc_score\", auc_score)\n",
    "\n",
    "        # Calculate and log the F1 Beta score\n",
    "        fbeta_score = fbeta_score(test_data[\"target\"], predictions, beta=0.5)\n",
    "        mlflow.log_metric(\"fbeta_score\", fbeta_score)\n",
    "\n",
    "        return fbeta_score\n",
    "\n",
    "if __name__ == \"__main__\":\n",
    "    train_data = pd.read_csv(\"train_encoded.csv\")\n",
    "    test_data = pd.read_csv(\"test_encoded.csv\")\n",
    "    \n",
    "    mlflow.run(\".\",\n",
    "               parameters={\n",
    "                   \"max_depth\": (3, 5),\n",
    "                   \"learning_rate\": (0.01, 0.2),\n",
    "                   \"n_estimators\": (50, 200),\n",
    "                   \"gamma\": (0, 1),\n",
    "                   \"subsample\": (0.5, 1),\n",
    "                   \"colsample_bytree\": (0.5, 1)\n",
    "               },\n",
    "               experiment_name=\"xgboost_hyperparameter_tuning\",\n",
    "               version=None,\n",
    "               entry_point=\"train_xgboost\",\n",
    "               backend=\"local\")\n",
    "    \n",
    "    # Find the best run based on the F1 Beta score\n",
    "    client = MlflowClient()\n",
    "    experiment = client.get_experiment_by_name(\"xgboost_hyperparameter_tuning\")\n",
    "   "
   ]
  },
  {
   "cell_type": "code",
   "execution_count": null,
   "id": "25b32f0c",
   "metadata": {},
   "outputs": [],
   "source": [
    "train = pd.read_csv(path + 'train_encoded.csv')\n",
    "test = pd.read_csv(path + 'test_encoded.csv')\n",
    "# Target labels\n",
    "#train_y = train['TARGET']"
   ]
  },
  {
   "cell_type": "code",
   "execution_count": null,
   "id": "ce2055ca",
   "metadata": {},
   "outputs": [],
   "source": [
    "# Classification pipeline w/ isotonic calibration\n",
    "calib_pipeline = Pipeline([\n",
    "    ('scaler', RobustScaler()),\n",
    "    ('imputer', SimpleImputer(strategy='median')),\n",
    "    ('classifier', CalibratedClassifierCV(\n",
    "                        base_estimator=XGBClassifier(),\n",
    "                        method='isotonic'))\n",
    "])\n",
    "\n",
    "# Predict probabilities w/ isotonic calibration\n",
    "calib_pred = cross_val_predict(calib_pipeline, \n",
    "                               train, \n",
    "                               y=train_y,\n",
    "                               method='predict_proba')\n",
    "calib_pred = calib_pred[:,1] #only want p(default)\n",
    "\n"
   ]
  },
  {
   "cell_type": "code",
   "execution_count": null,
   "id": "8c564c44",
   "metadata": {},
   "outputs": [],
   "source": [
    "# Cross-validated AUROC for isotonic\n",
    "print('Mean AUROC with isotonic calibration:', \n",
    "      roc_auc_score(train_y, calib_pred))\n",
    "\n",
    "# FBetaScore for isotonic\n",
    "b = 1 # or any value of beta you want to use\n",
    "print('Mean F-beta score with isotonic calibration:', \n",
    "      \n",
    "      fbeta_score(train_y, calib_pred.round(0), beta=b))\n",
    "\n"
   ]
  },
  {
   "cell_type": "code",
   "execution_count": null,
   "id": "0b956337",
   "metadata": {},
   "outputs": [],
   "source": [
    "calib_pred"
   ]
  },
  {
   "cell_type": "code",
   "execution_count": null,
   "id": "bfdd3307",
   "metadata": {},
   "outputs": [],
   "source": [
    "train_y"
   ]
  },
  {
   "cell_type": "code",
   "execution_count": null,
   "id": "def4d79f",
   "metadata": {},
   "outputs": [],
   "source": [
    "# Fit to the training data\n",
    "calib_fit = calib_pipeline.fit(train, train_y)\n",
    "\n",
    "joblib.dump(calib_fit, 'calib_pipeline.joblib')"
   ]
  },
  {
   "cell_type": "code",
   "execution_count": null,
   "id": "eb545d4c",
   "metadata": {},
   "outputs": [],
   "source": [
    "# loaded_pipeline = joblib.load('calib_pipeline.joblib')\n",
    "\n",
    "# index=70\n",
    "\n",
    "# # Predict default probabilities of the test data\n",
    "# test_pred = calib_fit.predict_proba(test.iloc[index].values.reshape(1, -1))\n",
    "\n",
    "# #Adding the index back\n",
    "# df_out = pd.DataFrame(columns=['SK_ID_CURR','TARGET'])\n",
    "# df_out = df_out.append({'SK_ID_CURR':index,'TARGET':test_pred[:,1][0]},ignore_index=True)\n",
    "# df_out"
   ]
  },
  {
   "cell_type": "code",
   "execution_count": null,
   "id": "5a0cacfe",
   "metadata": {},
   "outputs": [],
   "source": []
  },
  {
   "cell_type": "code",
   "execution_count": null,
   "id": "93318b40",
   "metadata": {},
   "outputs": [],
   "source": [
    "loaded_pipeline = joblib.load('calib_pipeline.joblib')\n",
    "\n",
    "id = 400000# some value from SK_ID_CURR\n",
    "\n",
    "#Select the row from the test data with the specified id\n",
    "test_row = test[test['SK_ID_CURR'] == id]\n",
    "\n",
    "# Predict default probabilities of the test data\n",
    "test_pred = calib_fit.predict_proba(test_row.values.reshape(1, -1))\n",
    "\n",
    "#Adding the id back\n",
    "df_out = pd.DataFrame(columns=['SK_ID_CURR','TARGET'])\n",
    "df_out = df_out.append({'SK_ID_CURR':id,'TARGET':test_pred[:,1][0]},ignore_index=True)\n",
    "df_out"
   ]
  },
  {
   "cell_type": "code",
   "execution_count": null,
   "id": "412adbce",
   "metadata": {
    "scrolled": true
   },
   "outputs": [],
   "source": [
    "train_y"
   ]
  },
  {
   "cell_type": "code",
   "execution_count": null,
   "id": "456136d9",
   "metadata": {},
   "outputs": [],
   "source": [
    "len(calib_pred)"
   ]
  },
  {
   "cell_type": "code",
   "execution_count": null,
   "id": "b450de0a",
   "metadata": {},
   "outputs": [],
   "source": [
    "test.to_csv(path +'test_encoded.csv', index=False)"
   ]
  },
  {
   "cell_type": "code",
   "execution_count": null,
   "id": "861849ef",
   "metadata": {},
   "outputs": [],
   "source": [
    "import pandas as pd\n",
    "from sklearn.neighbors import KNeighborsClassifier\n",
    "\n",
    "path = \"\" # \"/dataset/\"\n",
    "\n",
    "X_train = pd.read_csv(path + 'train_encoded.csv')\n",
    "X_test = pd.read_csv(path + 'test_encoded.csv')\n",
    "train_old = pd.read_csv(path + 'application_train.csv')\n",
    "X_train = X_train.merge(train_old[['SK_ID_CURR', 'TARGET']], on='SK_ID_CURR', how='left')\n",
    "y_train = X_train['TARGET']\n",
    "X_train = X_train.dropna(subset=['TARGET'])\n",
    "X_train = X_train.drop(columns=[\"TARGET\"], axis=1)\n",
    "y_train.dropna(inplace=True)\n",
    "X_train.fillna(X_train.median(), inplace=True)\n",
    "X_test.fillna(X_test.median(), inplace=True)\n",
    "indices=X_train['SK_ID_CURR']\n",
    "X_test = X_test.set_index('SK_ID_CURR')\n",
    "X_train = X_train.set_index('SK_ID_CURR')\n",
    "\n",
    "id_value = 100005\n",
    "if id_value in X_test.index.values:\n",
    "    # Find the features of the customer id\n",
    "    customer_features = X_test.loc[X_test.index == id_value].values.reshape(1, -1)\n",
    "    # Initialize the KNeighborsClassifier or KNeighborsRegressor with n_neighbors=10\n",
    "    knn = KNeighborsClassifier(n_neighbors=10)\n",
    "    # Fit the classifier or regressor on the training dataset\n",
    "    knn.fit(X_train, y_train)\n",
    "    # Find the 10 closest neighbors of the customer id in the test dataset\n",
    "    neighbors = knn.kneighbors(customer_features, return_distance=False)\n",
    "    # Print the indices of the 10 closest neighbors\n",
    "    #print(neighbors)\n",
    "else:\n",
    "    print(f\"{id_value} does not exist in X_test dataframe\")\n",
    "\n",
    "neighbor_ids = indices.iloc[neighbors[0]].values\n",
    "print(neighbor_ids)"
   ]
  },
  {
   "cell_type": "code",
   "execution_count": 39,
   "id": "fa624846",
   "metadata": {},
   "outputs": [],
   "source": [
    "import pandas as pd\n",
    "import numpy as np\n",
    "from math import exp\n",
    "from sklearn import datasets\n",
    "from pandas_profiling import ProfileReport\n",
    "from sklearn.model_selection import train_test_split\n",
    "from sklearn.preprocessing import PowerTransformer\n",
    "import xgboost as xgb\n",
    "from sklearn.metrics import (\n",
    "    accuracy_score,\n",
    "    precision_score,\n",
    "    recall_score,\n",
    "    f1_score,\n",
    "    roc_auc_score\n",
    ")\n",
    "import mlflow\n",
    "import mlflow.xgboost\n",
    "from mlflow.models.signature import infer_signature\n",
    "from hyperopt import (\n",
    "    fmin, \n",
    "    hp, \n",
    "    tpe, \n",
    "    rand, \n",
    "    SparkTrials, \n",
    "    Trials, \n",
    "    STATUS_OK\n",
    ")\n",
    "from hyperopt.pyll.base import scope\n",
    "\n",
    "RANDOM_SEED = 0\n",
    "\n",
    "mlflow.set_tracking_uri('http://127.0.0.1:5000')\n",
    "\n",
    "# data = datasets.load_breast_cancer(as_frame=True)\n",
    "# data_df = data.data\n",
    "# data_df['target'] = data.target\n",
    "# data_df\n",
    "X_train = pd.read_csv(path + 'train_encoded.csv')\n",
    "X_test = pd.read_csv(path + 'test_encoded.csv')\n",
    "train_old = pd.read_csv(path + 'application_train.csv')\n",
    "X_train = X_train.merge(train_old[['SK_ID_CURR', 'TARGET']], on='SK_ID_CURR', how='left')\n",
    "y_train_val = X_train['TARGET']\n",
    "X_train = X_train.dropna(subset=['TARGET'])\n",
    "X_train = X_train.drop(columns=[\"TARGET\"], axis=1)\n",
    "y_train.dropna(inplace=True)\n",
    "X_train.fillna(X_train.median(), inplace=True)\n",
    "X_test.fillna(X_test.median(), inplace=True)\n",
    "indices=X_train['SK_ID_CURR']\n",
    "X_test = X_test.set_index('SK_ID_CURR')\n",
    "X_train_val = X_train.set_index('SK_ID_CURR')\n",
    "\n",
    "# data_profile = ProfileReport(data_df)\n",
    "# data_profile.to_file(f'data_profile.html')"
   ]
  },
  {
   "cell_type": "code",
   "execution_count": 40,
   "id": "c0789789",
   "metadata": {},
   "outputs": [
    {
     "name": "stderr",
     "output_type": "stream",
     "text": [
      "/home/marco/anaconda3/lib/python3.9/site-packages/sklearn/preprocessing/_data.py:3253: RuntimeWarning: divide by zero encountered in log\n",
      "  loglike = -n_samples / 2 * np.log(x_trans.var())\n",
      "/home/marco/anaconda3/lib/python3.9/site-packages/numpy/core/_methods.py:233: RuntimeWarning: overflow encountered in multiply\n",
      "  x = um.multiply(x, x, out=x)\n",
      "/home/marco/anaconda3/lib/python3.9/site-packages/numpy/core/_methods.py:244: RuntimeWarning: overflow encountered in reduce\n",
      "  ret = umr_sum(x, axis, dtype, out, keepdims=keepdims, where=where)\n"
     ]
    }
   ],
   "source": [
    "# # Splitting the dataset into training/validation and holdout sets\n",
    "# train_val, test = train_test_split(\n",
    "#     data_df, \n",
    "#     test_size=0.1,\n",
    "#     shuffle=True, \n",
    "#     random_state=RANDOM_SEED\n",
    "# )\n",
    "\n",
    "\n",
    "# # Creating X, y for training/validation set\n",
    "# X_train_val = train_val.drop(columns='TARGET')\n",
    "# y_train_val = train_val.TARGET\n",
    "\n",
    "# # Creating X, y for test set\n",
    "# X_test = test.drop(columns='TARGET')\n",
    "# y_test = test.TARGET\n",
    "\n",
    "# Splitting training/testing set to create training set and validation set\n",
    "X_train, X_val, y_train, y_val = train_test_split(\n",
    "    X_train_val, \n",
    "    y_train_val,\n",
    "    stratify=y_train_val,\n",
    "    shuffle=True, \n",
    "    random_state=RANDOM_SEED\n",
    ")\n",
    "\n",
    "# Preprocessing data\n",
    "power = PowerTransformer(method='yeo-johnson', standardize=True)\n",
    "X_train = power.fit_transform(X_train)\n",
    "X_val =power.transform(X_val)\n",
    "X_test = power.transform(X_test)"
   ]
  },
  {
   "cell_type": "code",
   "execution_count": 41,
   "id": "6b47e87f",
   "metadata": {
    "scrolled": true
   },
   "outputs": [
    {
     "name": "stdout",
     "output_type": "stream",
     "text": [
      "\r",
      "  0%|          | 0/50 [00:00<?, ?trial/s, best loss=?]"
     ]
    },
    {
     "name": "stderr",
     "output_type": "stream",
     "text": [
      "2023/01/31 17:18:07 WARNING mlflow.utils.autologging_utils: You are using an unsupported version of xgboost. If you encounter errors during autologging, try upgrading / downgrading xgboost to a supported version, or try upgrading MLflow.\n",
      "\n",
      "/home/marco/anaconda3/lib/python3.9/site-packages/xgboost/sklearn.py:1395: UserWarning: `use_label_encoder` is deprecated in 1.7.0.\n",
      "  warnings.warn(\"`use_label_encoder` is deprecated in 1.7.0.\")\n",
      "\n"
     ]
    },
    {
     "name": "stdout",
     "output_type": "stream",
     "text": [
      "\r",
      "  2%|▏         | 1/50 [00:49<40:36, 49.72s/trial, best loss: -0.745]"
     ]
    },
    {
     "name": "stderr",
     "output_type": "stream",
     "text": [
      "2023/01/31 17:18:56 WARNING mlflow.utils.autologging_utils: You are using an unsupported version of xgboost. If you encounter errors during autologging, try upgrading / downgrading xgboost to a supported version, or try upgrading MLflow.\n",
      "\n",
      "/home/marco/anaconda3/lib/python3.9/site-packages/xgboost/sklearn.py:1395: UserWarning: `use_label_encoder` is deprecated in 1.7.0.\n",
      "  warnings.warn(\"`use_label_encoder` is deprecated in 1.7.0.\")\n",
      "\n"
     ]
    },
    {
     "name": "stdout",
     "output_type": "stream",
     "text": [
      "\r",
      "  4%|▍         | 2/50 [01:18<29:43, 37.16s/trial, best loss: -0.75] "
     ]
    },
    {
     "name": "stderr",
     "output_type": "stream",
     "text": [
      "2023/01/31 17:19:25 WARNING mlflow.utils.autologging_utils: You are using an unsupported version of xgboost. If you encounter errors during autologging, try upgrading / downgrading xgboost to a supported version, or try upgrading MLflow.\n",
      "\n",
      "/home/marco/anaconda3/lib/python3.9/site-packages/xgboost/sklearn.py:1395: UserWarning: `use_label_encoder` is deprecated in 1.7.0.\n",
      "  warnings.warn(\"`use_label_encoder` is deprecated in 1.7.0.\")\n",
      "\n"
     ]
    },
    {
     "name": "stdout",
     "output_type": "stream",
     "text": [
      "\r",
      "  6%|▌         | 3/50 [01:54<28:45, 36.71s/trial, best loss: -0.75]"
     ]
    },
    {
     "name": "stderr",
     "output_type": "stream",
     "text": [
      "2023/01/31 17:20:01 WARNING mlflow.utils.autologging_utils: You are using an unsupported version of xgboost. If you encounter errors during autologging, try upgrading / downgrading xgboost to a supported version, or try upgrading MLflow.\n",
      "\n",
      "/home/marco/anaconda3/lib/python3.9/site-packages/xgboost/sklearn.py:1395: UserWarning: `use_label_encoder` is deprecated in 1.7.0.\n",
      "  warnings.warn(\"`use_label_encoder` is deprecated in 1.7.0.\")\n",
      "\n",
      "/home/marco/anaconda3/lib/python3.9/site-packages/sklearn/metrics/_classification.py:1318: UndefinedMetricWarning: Precision is ill-defined and being set to 0.0 due to no predicted samples. Use `zero_division` parameter to control this behavior.\n",
      "  _warn_prf(average, modifier, msg_start, len(result))\n",
      "\n",
      "/home/marco/anaconda3/lib/python3.9/site-packages/sklearn/metrics/_classification.py:1318: UndefinedMetricWarning: Precision is ill-defined and being set to 0.0 due to no predicted samples. Use `zero_division` parameter to control this behavior.\n",
      "  _warn_prf(average, modifier, msg_start, len(result))\n",
      "\n"
     ]
    },
    {
     "name": "stdout",
     "output_type": "stream",
     "text": [
      "\r",
      "  8%|▊         | 4/50 [02:10<21:55, 28.59s/trial, best loss: -0.75]"
     ]
    },
    {
     "name": "stderr",
     "output_type": "stream",
     "text": [
      "2023/01/31 17:20:17 WARNING mlflow.utils.autologging_utils: You are using an unsupported version of xgboost. If you encounter errors during autologging, try upgrading / downgrading xgboost to a supported version, or try upgrading MLflow.\n",
      "\n",
      "/home/marco/anaconda3/lib/python3.9/site-packages/xgboost/sklearn.py:1395: UserWarning: `use_label_encoder` is deprecated in 1.7.0.\n",
      "  warnings.warn(\"`use_label_encoder` is deprecated in 1.7.0.\")\n",
      "\n",
      "/home/marco/anaconda3/lib/python3.9/site-packages/sklearn/metrics/_classification.py:1318: UndefinedMetricWarning: Precision is ill-defined and being set to 0.0 due to no predicted samples. Use `zero_division` parameter to control this behavior.\n",
      "  _warn_prf(average, modifier, msg_start, len(result))\n",
      "\n",
      "/home/marco/anaconda3/lib/python3.9/site-packages/sklearn/metrics/_classification.py:1318: UndefinedMetricWarning: Precision is ill-defined and being set to 0.0 due to no predicted samples. Use `zero_division` parameter to control this behavior.\n",
      "  _warn_prf(average, modifier, msg_start, len(result))\n",
      "\n"
     ]
    },
    {
     "name": "stdout",
     "output_type": "stream",
     "text": [
      "\r",
      " 10%|█         | 5/50 [02:26<17:59, 23.99s/trial, best loss: -0.75]"
     ]
    },
    {
     "name": "stderr",
     "output_type": "stream",
     "text": [
      "2023/01/31 17:20:33 WARNING mlflow.utils.autologging_utils: You are using an unsupported version of xgboost. If you encounter errors during autologging, try upgrading / downgrading xgboost to a supported version, or try upgrading MLflow.\n",
      "\n",
      "/home/marco/anaconda3/lib/python3.9/site-packages/xgboost/sklearn.py:1395: UserWarning: `use_label_encoder` is deprecated in 1.7.0.\n",
      "  warnings.warn(\"`use_label_encoder` is deprecated in 1.7.0.\")\n",
      "\n"
     ]
    },
    {
     "name": "stdout",
     "output_type": "stream",
     "text": [
      "\r",
      " 12%|█▏        | 6/50 [02:52<18:06, 24.70s/trial, best loss: -0.759]"
     ]
    },
    {
     "name": "stderr",
     "output_type": "stream",
     "text": [
      "2023/01/31 17:20:59 WARNING mlflow.utils.autologging_utils: You are using an unsupported version of xgboost. If you encounter errors during autologging, try upgrading / downgrading xgboost to a supported version, or try upgrading MLflow.\n",
      "\n",
      "/home/marco/anaconda3/lib/python3.9/site-packages/xgboost/sklearn.py:1395: UserWarning: `use_label_encoder` is deprecated in 1.7.0.\n",
      "  warnings.warn(\"`use_label_encoder` is deprecated in 1.7.0.\")\n",
      "\n"
     ]
    },
    {
     "name": "stdout",
     "output_type": "stream",
     "text": [
      "\r",
      " 14%|█▍        | 7/50 [03:11<16:29, 23.02s/trial, best loss: -0.759]"
     ]
    },
    {
     "name": "stderr",
     "output_type": "stream",
     "text": [
      "2023/01/31 17:21:18 WARNING mlflow.utils.autologging_utils: You are using an unsupported version of xgboost. If you encounter errors during autologging, try upgrading / downgrading xgboost to a supported version, or try upgrading MLflow.\n",
      "\n",
      "/home/marco/anaconda3/lib/python3.9/site-packages/xgboost/sklearn.py:1395: UserWarning: `use_label_encoder` is deprecated in 1.7.0.\n",
      "  warnings.warn(\"`use_label_encoder` is deprecated in 1.7.0.\")\n",
      "\n",
      "/home/marco/anaconda3/lib/python3.9/site-packages/sklearn/metrics/_classification.py:1318: UndefinedMetricWarning: Precision is ill-defined and being set to 0.0 due to no predicted samples. Use `zero_division` parameter to control this behavior.\n",
      "  _warn_prf(average, modifier, msg_start, len(result))\n",
      "\n",
      "/home/marco/anaconda3/lib/python3.9/site-packages/sklearn/metrics/_classification.py:1318: UndefinedMetricWarning: Precision is ill-defined and being set to 0.0 due to no predicted samples. Use `zero_division` parameter to control this behavior.\n",
      "  _warn_prf(average, modifier, msg_start, len(result))\n",
      "\n"
     ]
    },
    {
     "name": "stdout",
     "output_type": "stream",
     "text": [
      "\r",
      " 16%|█▌        | 8/50 [03:41<17:34, 25.10s/trial, best loss: -0.759]"
     ]
    },
    {
     "name": "stderr",
     "output_type": "stream",
     "text": [
      "2023/01/31 17:21:48 WARNING mlflow.utils.autologging_utils: You are using an unsupported version of xgboost. If you encounter errors during autologging, try upgrading / downgrading xgboost to a supported version, or try upgrading MLflow.\n",
      "\n",
      "/home/marco/anaconda3/lib/python3.9/site-packages/xgboost/sklearn.py:1395: UserWarning: `use_label_encoder` is deprecated in 1.7.0.\n",
      "  warnings.warn(\"`use_label_encoder` is deprecated in 1.7.0.\")\n",
      "\n",
      "2023/01/31 17:21:59 ERROR mlflow.xgboost: Failed to log feature importance plot. XGBoost autologging will ignore the failure and continue. Exception: \n",
      "Traceback (most recent call last):\n",
      "  File \"/home/marco/anaconda3/lib/python3.9/site-packages/mlflow/xgboost/__init__.py\", line 657, in train_impl\n",
      "    features, importance = zip(*imp.items())\n",
      "ValueError: not enough values to unpack (expected 2, got 0)\n",
      "\n",
      "/home/marco/anaconda3/lib/python3.9/site-packages/sklearn/metrics/_classification.py:1318: UndefinedMetricWarning: Precision is ill-defined and being set to 0.0 due to no predicted samples. Use `zero_division` parameter to control this behavior.\n",
      "  _warn_prf(average, modifier, msg_start, len(result))\n",
      "\n",
      "/home/marco/anaconda3/lib/python3.9/site-packages/sklearn/metrics/_classification.py:1318: UndefinedMetricWarning: Precision is ill-defined and being set to 0.0 due to no predicted samples. Use `zero_division` parameter to control this behavior.\n",
      "  _warn_prf(average, modifier, msg_start, len(result))\n",
      "\n"
     ]
    },
    {
     "name": "stdout",
     "output_type": "stream",
     "text": [
      "\r",
      " 18%|█▊        | 9/50 [03:55<14:49, 21.69s/trial, best loss: -0.759]"
     ]
    },
    {
     "name": "stderr",
     "output_type": "stream",
     "text": [
      "2023/01/31 17:22:02 WARNING mlflow.utils.autologging_utils: You are using an unsupported version of xgboost. If you encounter errors during autologging, try upgrading / downgrading xgboost to a supported version, or try upgrading MLflow.\n",
      "\n",
      "/home/marco/anaconda3/lib/python3.9/site-packages/xgboost/sklearn.py:1395: UserWarning: `use_label_encoder` is deprecated in 1.7.0.\n",
      "  warnings.warn(\"`use_label_encoder` is deprecated in 1.7.0.\")\n",
      "\n",
      "2023/01/31 17:22:11 ERROR mlflow.xgboost: Failed to log feature importance plot. XGBoost autologging will ignore the failure and continue. Exception: \n",
      "Traceback (most recent call last):\n",
      "  File \"/home/marco/anaconda3/lib/python3.9/site-packages/mlflow/xgboost/__init__.py\", line 657, in train_impl\n",
      "    features, importance = zip(*imp.items())\n",
      "ValueError: not enough values to unpack (expected 2, got 0)\n",
      "\n",
      "/home/marco/anaconda3/lib/python3.9/site-packages/sklearn/metrics/_classification.py:1318: UndefinedMetricWarning: Precision is ill-defined and being set to 0.0 due to no predicted samples. Use `zero_division` parameter to control this behavior.\n",
      "  _warn_prf(average, modifier, msg_start, len(result))\n",
      "\n",
      "/home/marco/anaconda3/lib/python3.9/site-packages/sklearn/metrics/_classification.py:1318: UndefinedMetricWarning: Precision is ill-defined and being set to 0.0 due to no predicted samples. Use `zero_division` parameter to control this behavior.\n",
      "  _warn_prf(average, modifier, msg_start, len(result))\n",
      "\n"
     ]
    },
    {
     "name": "stdout",
     "output_type": "stream",
     "text": [
      "\r",
      " 20%|██        | 10/50 [04:07<12:29, 18.74s/trial, best loss: -0.759]"
     ]
    },
    {
     "name": "stderr",
     "output_type": "stream",
     "text": [
      "2023/01/31 17:22:14 WARNING mlflow.utils.autologging_utils: You are using an unsupported version of xgboost. If you encounter errors during autologging, try upgrading / downgrading xgboost to a supported version, or try upgrading MLflow.\n",
      "\n",
      "/home/marco/anaconda3/lib/python3.9/site-packages/xgboost/sklearn.py:1395: UserWarning: `use_label_encoder` is deprecated in 1.7.0.\n",
      "  warnings.warn(\"`use_label_encoder` is deprecated in 1.7.0.\")\n",
      "\n",
      "/home/marco/anaconda3/lib/python3.9/site-packages/sklearn/metrics/_classification.py:1318: UndefinedMetricWarning: Precision is ill-defined and being set to 0.0 due to no predicted samples. Use `zero_division` parameter to control this behavior.\n",
      "  _warn_prf(average, modifier, msg_start, len(result))\n",
      "\n",
      "/home/marco/anaconda3/lib/python3.9/site-packages/sklearn/metrics/_classification.py:1318: UndefinedMetricWarning: Precision is ill-defined and being set to 0.0 due to no predicted samples. Use `zero_division` parameter to control this behavior.\n",
      "  _warn_prf(average, modifier, msg_start, len(result))\n",
      "\n"
     ]
    },
    {
     "name": "stdout",
     "output_type": "stream",
     "text": [
      "\r",
      " 22%|██▏       | 11/50 [04:32<13:25, 20.66s/trial, best loss: -0.759]"
     ]
    },
    {
     "name": "stderr",
     "output_type": "stream",
     "text": [
      "2023/01/31 17:22:39 WARNING mlflow.utils.autologging_utils: You are using an unsupported version of xgboost. If you encounter errors during autologging, try upgrading / downgrading xgboost to a supported version, or try upgrading MLflow.\n",
      "\n",
      "/home/marco/anaconda3/lib/python3.9/site-packages/xgboost/sklearn.py:1395: UserWarning: `use_label_encoder` is deprecated in 1.7.0.\n",
      "  warnings.warn(\"`use_label_encoder` is deprecated in 1.7.0.\")\n",
      "\n"
     ]
    },
    {
     "name": "stdout",
     "output_type": "stream",
     "text": [
      "\r",
      " 24%|██▍       | 12/50 [05:14<17:07, 27.04s/trial, best loss: -0.759]"
     ]
    },
    {
     "name": "stderr",
     "output_type": "stream",
     "text": [
      "2023/01/31 17:23:21 WARNING mlflow.utils.autologging_utils: You are using an unsupported version of xgboost. If you encounter errors during autologging, try upgrading / downgrading xgboost to a supported version, or try upgrading MLflow.\n",
      "\n",
      "/home/marco/anaconda3/lib/python3.9/site-packages/xgboost/sklearn.py:1395: UserWarning: `use_label_encoder` is deprecated in 1.7.0.\n",
      "  warnings.warn(\"`use_label_encoder` is deprecated in 1.7.0.\")\n",
      "\n",
      "/home/marco/anaconda3/lib/python3.9/site-packages/sklearn/metrics/_classification.py:1318: UndefinedMetricWarning: Precision is ill-defined and being set to 0.0 due to no predicted samples. Use `zero_division` parameter to control this behavior.\n",
      "  _warn_prf(average, modifier, msg_start, len(result))\n",
      "\n",
      "/home/marco/anaconda3/lib/python3.9/site-packages/sklearn/metrics/_classification.py:1318: UndefinedMetricWarning: Precision is ill-defined and being set to 0.0 due to no predicted samples. Use `zero_division` parameter to control this behavior.\n",
      "  _warn_prf(average, modifier, msg_start, len(result))\n",
      "\n"
     ]
    },
    {
     "name": "stdout",
     "output_type": "stream",
     "text": [
      "\r",
      " 26%|██▌       | 13/50 [05:25<13:46, 22.34s/trial, best loss: -0.759]"
     ]
    },
    {
     "name": "stderr",
     "output_type": "stream",
     "text": [
      "2023/01/31 17:23:33 WARNING mlflow.utils.autologging_utils: You are using an unsupported version of xgboost. If you encounter errors during autologging, try upgrading / downgrading xgboost to a supported version, or try upgrading MLflow.\n",
      "\n",
      "/home/marco/anaconda3/lib/python3.9/site-packages/xgboost/sklearn.py:1395: UserWarning: `use_label_encoder` is deprecated in 1.7.0.\n",
      "  warnings.warn(\"`use_label_encoder` is deprecated in 1.7.0.\")\n",
      "\n",
      "2023/01/31 17:23:47 ERROR mlflow.xgboost: Failed to log feature importance plot. XGBoost autologging will ignore the failure and continue. Exception: \n",
      "Traceback (most recent call last):\n",
      "  File \"/home/marco/anaconda3/lib/python3.9/site-packages/mlflow/xgboost/__init__.py\", line 657, in train_impl\n",
      "    features, importance = zip(*imp.items())\n",
      "ValueError: not enough values to unpack (expected 2, got 0)\n",
      "\n",
      "/home/marco/anaconda3/lib/python3.9/site-packages/sklearn/metrics/_classification.py:1318: UndefinedMetricWarning: Precision is ill-defined and being set to 0.0 due to no predicted samples. Use `zero_division` parameter to control this behavior.\n",
      "  _warn_prf(average, modifier, msg_start, len(result))\n",
      "\n",
      "/home/marco/anaconda3/lib/python3.9/site-packages/sklearn/metrics/_classification.py:1318: UndefinedMetricWarning: Precision is ill-defined and being set to 0.0 due to no predicted samples. Use `zero_division` parameter to control this behavior.\n",
      "  _warn_prf(average, modifier, msg_start, len(result))\n",
      "\n"
     ]
    },
    {
     "name": "stdout",
     "output_type": "stream",
     "text": [
      "\r",
      " 28%|██▊       | 14/50 [05:43<12:35, 20.98s/trial, best loss: -0.759]"
     ]
    },
    {
     "name": "stderr",
     "output_type": "stream",
     "text": [
      "2023/01/31 17:23:50 WARNING mlflow.utils.autologging_utils: You are using an unsupported version of xgboost. If you encounter errors during autologging, try upgrading / downgrading xgboost to a supported version, or try upgrading MLflow.\n",
      "\n",
      "/home/marco/anaconda3/lib/python3.9/site-packages/xgboost/sklearn.py:1395: UserWarning: `use_label_encoder` is deprecated in 1.7.0.\n",
      "  warnings.warn(\"`use_label_encoder` is deprecated in 1.7.0.\")\n",
      "\n",
      "/home/marco/anaconda3/lib/python3.9/site-packages/sklearn/metrics/_classification.py:1318: UndefinedMetricWarning: Precision is ill-defined and being set to 0.0 due to no predicted samples. Use `zero_division` parameter to control this behavior.\n",
      "  _warn_prf(average, modifier, msg_start, len(result))\n",
      "\n",
      "/home/marco/anaconda3/lib/python3.9/site-packages/sklearn/metrics/_classification.py:1318: UndefinedMetricWarning: Precision is ill-defined and being set to 0.0 due to no predicted samples. Use `zero_division` parameter to control this behavior.\n",
      "  _warn_prf(average, modifier, msg_start, len(result))\n",
      "\n"
     ]
    },
    {
     "name": "stdout",
     "output_type": "stream",
     "text": [
      "\r",
      " 30%|███       | 15/50 [06:35<17:39, 30.28s/trial, best loss: -0.759]"
     ]
    },
    {
     "name": "stderr",
     "output_type": "stream",
     "text": [
      "2023/01/31 17:24:42 WARNING mlflow.utils.autologging_utils: You are using an unsupported version of xgboost. If you encounter errors during autologging, try upgrading / downgrading xgboost to a supported version, or try upgrading MLflow.\n",
      "\n",
      "/home/marco/anaconda3/lib/python3.9/site-packages/xgboost/sklearn.py:1395: UserWarning: `use_label_encoder` is deprecated in 1.7.0.\n",
      "  warnings.warn(\"`use_label_encoder` is deprecated in 1.7.0.\")\n",
      "\n",
      "/home/marco/anaconda3/lib/python3.9/site-packages/sklearn/metrics/_classification.py:1318: UndefinedMetricWarning: Precision is ill-defined and being set to 0.0 due to no predicted samples. Use `zero_division` parameter to control this behavior.\n",
      "  _warn_prf(average, modifier, msg_start, len(result))\n",
      "\n",
      "/home/marco/anaconda3/lib/python3.9/site-packages/sklearn/metrics/_classification.py:1318: UndefinedMetricWarning: Precision is ill-defined and being set to 0.0 due to no predicted samples. Use `zero_division` parameter to control this behavior.\n",
      "  _warn_prf(average, modifier, msg_start, len(result))\n",
      "\n"
     ]
    },
    {
     "name": "stdout",
     "output_type": "stream",
     "text": [
      "\r",
      " 32%|███▏      | 16/50 [06:52<14:48, 26.12s/trial, best loss: -0.759]"
     ]
    },
    {
     "name": "stderr",
     "output_type": "stream",
     "text": [
      "2023/01/31 17:24:59 WARNING mlflow.utils.autologging_utils: You are using an unsupported version of xgboost. If you encounter errors during autologging, try upgrading / downgrading xgboost to a supported version, or try upgrading MLflow.\n",
      "\n",
      "/home/marco/anaconda3/lib/python3.9/site-packages/xgboost/sklearn.py:1395: UserWarning: `use_label_encoder` is deprecated in 1.7.0.\n",
      "  warnings.warn(\"`use_label_encoder` is deprecated in 1.7.0.\")\n",
      "\n"
     ]
    },
    {
     "name": "stdout",
     "output_type": "stream",
     "text": [
      "\r",
      " 34%|███▍      | 17/50 [07:08<12:45, 23.19s/trial, best loss: -0.759]"
     ]
    },
    {
     "name": "stderr",
     "output_type": "stream",
     "text": [
      "2023/01/31 17:25:15 WARNING mlflow.utils.autologging_utils: You are using an unsupported version of xgboost. If you encounter errors during autologging, try upgrading / downgrading xgboost to a supported version, or try upgrading MLflow.\n",
      "\n",
      "/home/marco/anaconda3/lib/python3.9/site-packages/xgboost/sklearn.py:1395: UserWarning: `use_label_encoder` is deprecated in 1.7.0.\n",
      "  warnings.warn(\"`use_label_encoder` is deprecated in 1.7.0.\")\n",
      "\n",
      "/home/marco/anaconda3/lib/python3.9/site-packages/sklearn/metrics/_classification.py:1318: UndefinedMetricWarning: Precision is ill-defined and being set to 0.0 due to no predicted samples. Use `zero_division` parameter to control this behavior.\n",
      "  _warn_prf(average, modifier, msg_start, len(result))\n",
      "\n",
      "/home/marco/anaconda3/lib/python3.9/site-packages/sklearn/metrics/_classification.py:1318: UndefinedMetricWarning: Precision is ill-defined and being set to 0.0 due to no predicted samples. Use `zero_division` parameter to control this behavior.\n",
      "  _warn_prf(average, modifier, msg_start, len(result))\n",
      "\n"
     ]
    },
    {
     "name": "stdout",
     "output_type": "stream",
     "text": [
      "\r",
      " 36%|███▌      | 18/50 [07:39<13:34, 25.44s/trial, best loss: -0.759]"
     ]
    },
    {
     "name": "stderr",
     "output_type": "stream",
     "text": [
      "2023/01/31 17:25:46 WARNING mlflow.utils.autologging_utils: You are using an unsupported version of xgboost. If you encounter errors during autologging, try upgrading / downgrading xgboost to a supported version, or try upgrading MLflow.\n",
      "\n",
      "/home/marco/anaconda3/lib/python3.9/site-packages/xgboost/sklearn.py:1395: UserWarning: `use_label_encoder` is deprecated in 1.7.0.\n",
      "  warnings.warn(\"`use_label_encoder` is deprecated in 1.7.0.\")\n",
      "\n",
      "2023/01/31 17:26:08 ERROR mlflow.xgboost: Failed to log feature importance plot. XGBoost autologging will ignore the failure and continue. Exception: \n",
      "Traceback (most recent call last):\n",
      "  File \"/home/marco/anaconda3/lib/python3.9/site-packages/mlflow/xgboost/__init__.py\", line 657, in train_impl\n",
      "    features, importance = zip(*imp.items())\n",
      "ValueError: not enough values to unpack (expected 2, got 0)\n",
      "\n",
      "/home/marco/anaconda3/lib/python3.9/site-packages/sklearn/metrics/_classification.py:1318: UndefinedMetricWarning: Precision is ill-defined and being set to 0.0 due to no predicted samples. Use `zero_division` parameter to control this behavior.\n",
      "  _warn_prf(average, modifier, msg_start, len(result))\n",
      "\n",
      "/home/marco/anaconda3/lib/python3.9/site-packages/sklearn/metrics/_classification.py:1318: UndefinedMetricWarning: Precision is ill-defined and being set to 0.0 due to no predicted samples. Use `zero_division` parameter to control this behavior.\n",
      "  _warn_prf(average, modifier, msg_start, len(result))\n",
      "\n"
     ]
    },
    {
     "name": "stdout",
     "output_type": "stream",
     "text": [
      "\r",
      " 38%|███▊      | 19/50 [08:04<13:09, 25.46s/trial, best loss: -0.759]"
     ]
    },
    {
     "name": "stderr",
     "output_type": "stream",
     "text": [
      "2023/01/31 17:26:11 WARNING mlflow.utils.autologging_utils: You are using an unsupported version of xgboost. If you encounter errors during autologging, try upgrading / downgrading xgboost to a supported version, or try upgrading MLflow.\n",
      "\n",
      "/home/marco/anaconda3/lib/python3.9/site-packages/xgboost/sklearn.py:1395: UserWarning: `use_label_encoder` is deprecated in 1.7.0.\n",
      "  warnings.warn(\"`use_label_encoder` is deprecated in 1.7.0.\")\n",
      "\n",
      "/home/marco/anaconda3/lib/python3.9/site-packages/sklearn/metrics/_classification.py:1318: UndefinedMetricWarning: Precision is ill-defined and being set to 0.0 due to no predicted samples. Use `zero_division` parameter to control this behavior.\n",
      "  _warn_prf(average, modifier, msg_start, len(result))\n",
      "\n",
      "/home/marco/anaconda3/lib/python3.9/site-packages/sklearn/metrics/_classification.py:1318: UndefinedMetricWarning: Precision is ill-defined and being set to 0.0 due to no predicted samples. Use `zero_division` parameter to control this behavior.\n",
      "  _warn_prf(average, modifier, msg_start, len(result))\n",
      "\n"
     ]
    },
    {
     "name": "stdout",
     "output_type": "stream",
     "text": [
      "\r",
      " 40%|████      | 20/50 [08:18<11:03, 22.13s/trial, best loss: -0.759]"
     ]
    },
    {
     "name": "stderr",
     "output_type": "stream",
     "text": [
      "2023/01/31 17:26:26 WARNING mlflow.utils.autologging_utils: You are using an unsupported version of xgboost. If you encounter errors during autologging, try upgrading / downgrading xgboost to a supported version, or try upgrading MLflow.\n",
      "\n",
      "/home/marco/anaconda3/lib/python3.9/site-packages/xgboost/sklearn.py:1395: UserWarning: `use_label_encoder` is deprecated in 1.7.0.\n",
      "  warnings.warn(\"`use_label_encoder` is deprecated in 1.7.0.\")\n",
      "\n",
      "/home/marco/anaconda3/lib/python3.9/site-packages/sklearn/metrics/_classification.py:1318: UndefinedMetricWarning: Precision is ill-defined and being set to 0.0 due to no predicted samples. Use `zero_division` parameter to control this behavior.\n",
      "  _warn_prf(average, modifier, msg_start, len(result))\n",
      "\n",
      "/home/marco/anaconda3/lib/python3.9/site-packages/sklearn/metrics/_classification.py:1318: UndefinedMetricWarning: Precision is ill-defined and being set to 0.0 due to no predicted samples. Use `zero_division` parameter to control this behavior.\n",
      "  _warn_prf(average, modifier, msg_start, len(result))\n",
      "\n"
     ]
    },
    {
     "name": "stdout",
     "output_type": "stream",
     "text": [
      "\r",
      " 42%|████▏     | 21/50 [08:28<08:51, 18.32s/trial, best loss: -0.759]"
     ]
    },
    {
     "name": "stderr",
     "output_type": "stream",
     "text": [
      "2023/01/31 17:26:35 WARNING mlflow.utils.autologging_utils: You are using an unsupported version of xgboost. If you encounter errors during autologging, try upgrading / downgrading xgboost to a supported version, or try upgrading MLflow.\n",
      "\n",
      "/home/marco/anaconda3/lib/python3.9/site-packages/xgboost/sklearn.py:1395: UserWarning: `use_label_encoder` is deprecated in 1.7.0.\n",
      "  warnings.warn(\"`use_label_encoder` is deprecated in 1.7.0.\")\n",
      "\n",
      "/home/marco/anaconda3/lib/python3.9/site-packages/sklearn/metrics/_classification.py:1318: UndefinedMetricWarning: Precision is ill-defined and being set to 0.0 due to no predicted samples. Use `zero_division` parameter to control this behavior.\n",
      "  _warn_prf(average, modifier, msg_start, len(result))\n",
      "\n",
      "/home/marco/anaconda3/lib/python3.9/site-packages/sklearn/metrics/_classification.py:1318: UndefinedMetricWarning: Precision is ill-defined and being set to 0.0 due to no predicted samples. Use `zero_division` parameter to control this behavior.\n",
      "  _warn_prf(average, modifier, msg_start, len(result))\n",
      "\n"
     ]
    },
    {
     "name": "stdout",
     "output_type": "stream",
     "text": [
      "\r",
      " 44%|████▍     | 22/50 [08:36<07:07, 15.28s/trial, best loss: -0.759]"
     ]
    },
    {
     "name": "stderr",
     "output_type": "stream",
     "text": [
      "2023/01/31 17:26:43 WARNING mlflow.utils.autologging_utils: You are using an unsupported version of xgboost. If you encounter errors during autologging, try upgrading / downgrading xgboost to a supported version, or try upgrading MLflow.\n",
      "\n",
      "/home/marco/anaconda3/lib/python3.9/site-packages/xgboost/sklearn.py:1395: UserWarning: `use_label_encoder` is deprecated in 1.7.0.\n",
      "  warnings.warn(\"`use_label_encoder` is deprecated in 1.7.0.\")\n",
      "\n"
     ]
    },
    {
     "name": "stdout",
     "output_type": "stream",
     "text": [
      "\r",
      " 46%|████▌     | 23/50 [08:52<07:00, 15.56s/trial, best loss: -0.759]"
     ]
    },
    {
     "name": "stderr",
     "output_type": "stream",
     "text": [
      "2023/01/31 17:26:59 WARNING mlflow.utils.autologging_utils: You are using an unsupported version of xgboost. If you encounter errors during autologging, try upgrading / downgrading xgboost to a supported version, or try upgrading MLflow.\n",
      "\n",
      "/home/marco/anaconda3/lib/python3.9/site-packages/xgboost/sklearn.py:1395: UserWarning: `use_label_encoder` is deprecated in 1.7.0.\n",
      "  warnings.warn(\"`use_label_encoder` is deprecated in 1.7.0.\")\n",
      "\n"
     ]
    },
    {
     "name": "stdout",
     "output_type": "stream",
     "text": [
      "\r",
      " 48%|████▊     | 24/50 [09:28<09:19, 21.53s/trial, best loss: -0.759]"
     ]
    },
    {
     "name": "stderr",
     "output_type": "stream",
     "text": [
      "2023/01/31 17:27:35 WARNING mlflow.utils.autologging_utils: You are using an unsupported version of xgboost. If you encounter errors during autologging, try upgrading / downgrading xgboost to a supported version, or try upgrading MLflow.\n",
      "\n",
      "/home/marco/anaconda3/lib/python3.9/site-packages/xgboost/sklearn.py:1395: UserWarning: `use_label_encoder` is deprecated in 1.7.0.\n",
      "  warnings.warn(\"`use_label_encoder` is deprecated in 1.7.0.\")\n",
      "\n"
     ]
    },
    {
     "name": "stdout",
     "output_type": "stream",
     "text": [
      "\r",
      " 50%|█████     | 25/50 [10:04<10:44, 25.79s/trial, best loss: -0.759]"
     ]
    },
    {
     "name": "stderr",
     "output_type": "stream",
     "text": [
      "2023/01/31 17:28:11 WARNING mlflow.utils.autologging_utils: You are using an unsupported version of xgboost. If you encounter errors during autologging, try upgrading / downgrading xgboost to a supported version, or try upgrading MLflow.\n",
      "\n",
      "/home/marco/anaconda3/lib/python3.9/site-packages/xgboost/sklearn.py:1395: UserWarning: `use_label_encoder` is deprecated in 1.7.0.\n",
      "  warnings.warn(\"`use_label_encoder` is deprecated in 1.7.0.\")\n",
      "\n"
     ]
    },
    {
     "name": "stdout",
     "output_type": "stream",
     "text": [
      "\r",
      " 52%|█████▏    | 26/50 [10:42<11:46, 29.45s/trial, best loss: -0.759]"
     ]
    },
    {
     "name": "stderr",
     "output_type": "stream",
     "text": [
      "2023/01/31 17:28:49 WARNING mlflow.utils.autologging_utils: You are using an unsupported version of xgboost. If you encounter errors during autologging, try upgrading / downgrading xgboost to a supported version, or try upgrading MLflow.\n",
      "\n",
      "/home/marco/anaconda3/lib/python3.9/site-packages/xgboost/sklearn.py:1395: UserWarning: `use_label_encoder` is deprecated in 1.7.0.\n",
      "  warnings.warn(\"`use_label_encoder` is deprecated in 1.7.0.\")\n",
      "\n"
     ]
    },
    {
     "name": "stdout",
     "output_type": "stream",
     "text": [
      "\r",
      " 54%|█████▍    | 27/50 [10:57<09:39, 25.20s/trial, best loss: -0.759]"
     ]
    },
    {
     "name": "stderr",
     "output_type": "stream",
     "text": [
      "2023/01/31 17:29:04 WARNING mlflow.utils.autologging_utils: You are using an unsupported version of xgboost. If you encounter errors during autologging, try upgrading / downgrading xgboost to a supported version, or try upgrading MLflow.\n",
      "\n",
      "/home/marco/anaconda3/lib/python3.9/site-packages/xgboost/sklearn.py:1395: UserWarning: `use_label_encoder` is deprecated in 1.7.0.\n",
      "  warnings.warn(\"`use_label_encoder` is deprecated in 1.7.0.\")\n",
      "\n"
     ]
    },
    {
     "name": "stdout",
     "output_type": "stream",
     "text": [
      "\r",
      " 56%|█████▌    | 28/50 [11:27<09:47, 26.72s/trial, best loss: -0.759]"
     ]
    },
    {
     "name": "stderr",
     "output_type": "stream",
     "text": [
      "2023/01/31 17:29:34 WARNING mlflow.utils.autologging_utils: You are using an unsupported version of xgboost. If you encounter errors during autologging, try upgrading / downgrading xgboost to a supported version, or try upgrading MLflow.\n",
      "\n",
      "/home/marco/anaconda3/lib/python3.9/site-packages/xgboost/sklearn.py:1395: UserWarning: `use_label_encoder` is deprecated in 1.7.0.\n",
      "  warnings.warn(\"`use_label_encoder` is deprecated in 1.7.0.\")\n",
      "\n"
     ]
    },
    {
     "name": "stdout",
     "output_type": "stream",
     "text": [
      "\r",
      " 58%|█████▊    | 29/50 [11:56<09:38, 27.53s/trial, best loss: -0.759]"
     ]
    },
    {
     "name": "stderr",
     "output_type": "stream",
     "text": [
      "2023/01/31 17:30:04 WARNING mlflow.utils.autologging_utils: You are using an unsupported version of xgboost. If you encounter errors during autologging, try upgrading / downgrading xgboost to a supported version, or try upgrading MLflow.\n",
      "\n",
      "/home/marco/anaconda3/lib/python3.9/site-packages/xgboost/sklearn.py:1395: UserWarning: `use_label_encoder` is deprecated in 1.7.0.\n",
      "  warnings.warn(\"`use_label_encoder` is deprecated in 1.7.0.\")\n",
      "\n",
      "2023/01/31 17:30:34 ERROR mlflow.xgboost: Failed to log feature importance plot. XGBoost autologging will ignore the failure and continue. Exception: \n",
      "Traceback (most recent call last):\n",
      "  File \"/home/marco/anaconda3/lib/python3.9/site-packages/mlflow/xgboost/__init__.py\", line 657, in train_impl\n",
      "    features, importance = zip(*imp.items())\n",
      "ValueError: not enough values to unpack (expected 2, got 0)\n",
      "\n",
      "/home/marco/anaconda3/lib/python3.9/site-packages/sklearn/metrics/_classification.py:1318: UndefinedMetricWarning: Precision is ill-defined and being set to 0.0 due to no predicted samples. Use `zero_division` parameter to control this behavior.\n",
      "  _warn_prf(average, modifier, msg_start, len(result))\n",
      "\n",
      "/home/marco/anaconda3/lib/python3.9/site-packages/sklearn/metrics/_classification.py:1318: UndefinedMetricWarning: Precision is ill-defined and being set to 0.0 due to no predicted samples. Use `zero_division` parameter to control this behavior.\n",
      "  _warn_prf(average, modifier, msg_start, len(result))\n",
      "\n"
     ]
    },
    {
     "name": "stdout",
     "output_type": "stream",
     "text": [
      "\r",
      " 60%|██████    | 30/50 [12:30<09:48, 29.44s/trial, best loss: -0.759]"
     ]
    },
    {
     "name": "stderr",
     "output_type": "stream",
     "text": [
      "2023/01/31 17:30:37 WARNING mlflow.utils.autologging_utils: You are using an unsupported version of xgboost. If you encounter errors during autologging, try upgrading / downgrading xgboost to a supported version, or try upgrading MLflow.\n",
      "\n",
      "/home/marco/anaconda3/lib/python3.9/site-packages/xgboost/sklearn.py:1395: UserWarning: `use_label_encoder` is deprecated in 1.7.0.\n",
      "  warnings.warn(\"`use_label_encoder` is deprecated in 1.7.0.\")\n",
      "\n"
     ]
    },
    {
     "name": "stdout",
     "output_type": "stream",
     "text": [
      "\r",
      " 62%|██████▏   | 31/50 [12:54<08:46, 27.71s/trial, best loss: -0.759]"
     ]
    },
    {
     "name": "stderr",
     "output_type": "stream",
     "text": [
      "2023/01/31 17:31:01 WARNING mlflow.utils.autologging_utils: You are using an unsupported version of xgboost. If you encounter errors during autologging, try upgrading / downgrading xgboost to a supported version, or try upgrading MLflow.\n",
      "\n",
      "/home/marco/anaconda3/lib/python3.9/site-packages/xgboost/sklearn.py:1395: UserWarning: `use_label_encoder` is deprecated in 1.7.0.\n",
      "  warnings.warn(\"`use_label_encoder` is deprecated in 1.7.0.\")\n",
      "\n"
     ]
    },
    {
     "name": "stdout",
     "output_type": "stream",
     "text": [
      "\r",
      " 64%|██████▍   | 32/50 [13:41<10:03, 33.53s/trial, best loss: -0.759]"
     ]
    },
    {
     "name": "stderr",
     "output_type": "stream",
     "text": [
      "2023/01/31 17:31:48 WARNING mlflow.utils.autologging_utils: You are using an unsupported version of xgboost. If you encounter errors during autologging, try upgrading / downgrading xgboost to a supported version, or try upgrading MLflow.\n",
      "\n",
      "/home/marco/anaconda3/lib/python3.9/site-packages/xgboost/sklearn.py:1395: UserWarning: `use_label_encoder` is deprecated in 1.7.0.\n",
      "  warnings.warn(\"`use_label_encoder` is deprecated in 1.7.0.\")\n",
      "\n"
     ]
    },
    {
     "name": "stdout",
     "output_type": "stream",
     "text": [
      "\r",
      " 66%|██████▌   | 33/50 [14:32<10:56, 38.63s/trial, best loss: -0.759]"
     ]
    },
    {
     "name": "stderr",
     "output_type": "stream",
     "text": [
      "2023/01/31 17:32:39 WARNING mlflow.utils.autologging_utils: You are using an unsupported version of xgboost. If you encounter errors during autologging, try upgrading / downgrading xgboost to a supported version, or try upgrading MLflow.\n",
      "\n",
      "/home/marco/anaconda3/lib/python3.9/site-packages/xgboost/sklearn.py:1395: UserWarning: `use_label_encoder` is deprecated in 1.7.0.\n",
      "  warnings.warn(\"`use_label_encoder` is deprecated in 1.7.0.\")\n",
      "\n",
      "/home/marco/anaconda3/lib/python3.9/site-packages/sklearn/metrics/_classification.py:1318: UndefinedMetricWarning: Precision is ill-defined and being set to 0.0 due to no predicted samples. Use `zero_division` parameter to control this behavior.\n",
      "  _warn_prf(average, modifier, msg_start, len(result))\n",
      "\n",
      "/home/marco/anaconda3/lib/python3.9/site-packages/sklearn/metrics/_classification.py:1318: UndefinedMetricWarning: Precision is ill-defined and being set to 0.0 due to no predicted samples. Use `zero_division` parameter to control this behavior.\n",
      "  _warn_prf(average, modifier, msg_start, len(result))\n",
      "\n"
     ]
    },
    {
     "name": "stdout",
     "output_type": "stream",
     "text": [
      "\r",
      " 68%|██████▊   | 34/50 [14:55<09:02, 33.92s/trial, best loss: -0.759]"
     ]
    },
    {
     "name": "stderr",
     "output_type": "stream",
     "text": [
      "2023/01/31 17:33:02 WARNING mlflow.utils.autologging_utils: You are using an unsupported version of xgboost. If you encounter errors during autologging, try upgrading / downgrading xgboost to a supported version, or try upgrading MLflow.\n",
      "\n",
      "/home/marco/anaconda3/lib/python3.9/site-packages/xgboost/sklearn.py:1395: UserWarning: `use_label_encoder` is deprecated in 1.7.0.\n",
      "  warnings.warn(\"`use_label_encoder` is deprecated in 1.7.0.\")\n",
      "\n"
     ]
    },
    {
     "name": "stdout",
     "output_type": "stream",
     "text": [
      "\r",
      " 70%|███████   | 35/50 [15:21<07:54, 31.65s/trial, best loss: -0.759]"
     ]
    },
    {
     "name": "stderr",
     "output_type": "stream",
     "text": [
      "2023/01/31 17:33:28 WARNING mlflow.utils.autologging_utils: You are using an unsupported version of xgboost. If you encounter errors during autologging, try upgrading / downgrading xgboost to a supported version, or try upgrading MLflow.\n",
      "\n",
      "/home/marco/anaconda3/lib/python3.9/site-packages/xgboost/sklearn.py:1395: UserWarning: `use_label_encoder` is deprecated in 1.7.0.\n",
      "  warnings.warn(\"`use_label_encoder` is deprecated in 1.7.0.\")\n",
      "\n"
     ]
    },
    {
     "name": "stdout",
     "output_type": "stream",
     "text": [
      "\r",
      " 72%|███████▏  | 36/50 [16:02<08:01, 34.37s/trial, best loss: -0.759]"
     ]
    },
    {
     "name": "stderr",
     "output_type": "stream",
     "text": [
      "2023/01/31 17:34:09 WARNING mlflow.utils.autologging_utils: You are using an unsupported version of xgboost. If you encounter errors during autologging, try upgrading / downgrading xgboost to a supported version, or try upgrading MLflow.\n",
      "\n",
      "/home/marco/anaconda3/lib/python3.9/site-packages/xgboost/sklearn.py:1395: UserWarning: `use_label_encoder` is deprecated in 1.7.0.\n",
      "  warnings.warn(\"`use_label_encoder` is deprecated in 1.7.0.\")\n",
      "\n"
     ]
    },
    {
     "name": "stdout",
     "output_type": "stream",
     "text": [
      "\r",
      " 74%|███████▍  | 37/50 [16:33<07:14, 33.41s/trial, best loss: -0.759]"
     ]
    },
    {
     "name": "stderr",
     "output_type": "stream",
     "text": [
      "2023/01/31 17:34:40 WARNING mlflow.utils.autologging_utils: You are using an unsupported version of xgboost. If you encounter errors during autologging, try upgrading / downgrading xgboost to a supported version, or try upgrading MLflow.\n",
      "\n",
      "/home/marco/anaconda3/lib/python3.9/site-packages/xgboost/sklearn.py:1395: UserWarning: `use_label_encoder` is deprecated in 1.7.0.\n",
      "  warnings.warn(\"`use_label_encoder` is deprecated in 1.7.0.\")\n",
      "\n"
     ]
    },
    {
     "name": "stdout",
     "output_type": "stream",
     "text": [
      "\r",
      " 76%|███████▌  | 38/50 [17:00<06:18, 31.51s/trial, best loss: -0.759]"
     ]
    },
    {
     "name": "stderr",
     "output_type": "stream",
     "text": [
      "2023/01/31 17:35:07 WARNING mlflow.utils.autologging_utils: You are using an unsupported version of xgboost. If you encounter errors during autologging, try upgrading / downgrading xgboost to a supported version, or try upgrading MLflow.\n",
      "\n",
      "/home/marco/anaconda3/lib/python3.9/site-packages/xgboost/sklearn.py:1395: UserWarning: `use_label_encoder` is deprecated in 1.7.0.\n",
      "  warnings.warn(\"`use_label_encoder` is deprecated in 1.7.0.\")\n",
      "\n",
      "/home/marco/anaconda3/lib/python3.9/site-packages/sklearn/metrics/_classification.py:1318: UndefinedMetricWarning: Precision is ill-defined and being set to 0.0 due to no predicted samples. Use `zero_division` parameter to control this behavior.\n",
      "  _warn_prf(average, modifier, msg_start, len(result))\n",
      "\n",
      "/home/marco/anaconda3/lib/python3.9/site-packages/sklearn/metrics/_classification.py:1318: UndefinedMetricWarning: Precision is ill-defined and being set to 0.0 due to no predicted samples. Use `zero_division` parameter to control this behavior.\n",
      "  _warn_prf(average, modifier, msg_start, len(result))\n",
      "\n"
     ]
    },
    {
     "name": "stdout",
     "output_type": "stream",
     "text": [
      "\r",
      " 78%|███████▊  | 39/50 [17:13<04:46, 26.05s/trial, best loss: -0.759]"
     ]
    },
    {
     "name": "stderr",
     "output_type": "stream",
     "text": [
      "2023/01/31 17:35:20 WARNING mlflow.utils.autologging_utils: You are using an unsupported version of xgboost. If you encounter errors during autologging, try upgrading / downgrading xgboost to a supported version, or try upgrading MLflow.\n",
      "\n",
      "/home/marco/anaconda3/lib/python3.9/site-packages/xgboost/sklearn.py:1395: UserWarning: `use_label_encoder` is deprecated in 1.7.0.\n",
      "  warnings.warn(\"`use_label_encoder` is deprecated in 1.7.0.\")\n",
      "\n"
     ]
    },
    {
     "name": "stdout",
     "output_type": "stream",
     "text": [
      "\r",
      " 80%|████████  | 40/50 [17:35<04:08, 24.82s/trial, best loss: -0.761]"
     ]
    },
    {
     "name": "stderr",
     "output_type": "stream",
     "text": [
      "2023/01/31 17:35:42 WARNING mlflow.utils.autologging_utils: You are using an unsupported version of xgboost. If you encounter errors during autologging, try upgrading / downgrading xgboost to a supported version, or try upgrading MLflow.\n",
      "\n",
      "/home/marco/anaconda3/lib/python3.9/site-packages/xgboost/sklearn.py:1395: UserWarning: `use_label_encoder` is deprecated in 1.7.0.\n",
      "  warnings.warn(\"`use_label_encoder` is deprecated in 1.7.0.\")\n",
      "\n",
      "/home/marco/anaconda3/lib/python3.9/site-packages/sklearn/metrics/_classification.py:1318: UndefinedMetricWarning: Precision is ill-defined and being set to 0.0 due to no predicted samples. Use `zero_division` parameter to control this behavior.\n",
      "  _warn_prf(average, modifier, msg_start, len(result))\n",
      "\n",
      "/home/marco/anaconda3/lib/python3.9/site-packages/sklearn/metrics/_classification.py:1318: UndefinedMetricWarning: Precision is ill-defined and being set to 0.0 due to no predicted samples. Use `zero_division` parameter to control this behavior.\n",
      "  _warn_prf(average, modifier, msg_start, len(result))\n",
      "\n"
     ]
    },
    {
     "name": "stdout",
     "output_type": "stream",
     "text": [
      "\r",
      " 82%|████████▏ | 41/50 [17:59<03:39, 24.38s/trial, best loss: -0.761]"
     ]
    },
    {
     "name": "stderr",
     "output_type": "stream",
     "text": [
      "2023/01/31 17:36:06 WARNING mlflow.utils.autologging_utils: You are using an unsupported version of xgboost. If you encounter errors during autologging, try upgrading / downgrading xgboost to a supported version, or try upgrading MLflow.\n",
      "\n",
      "/home/marco/anaconda3/lib/python3.9/site-packages/xgboost/sklearn.py:1395: UserWarning: `use_label_encoder` is deprecated in 1.7.0.\n",
      "  warnings.warn(\"`use_label_encoder` is deprecated in 1.7.0.\")\n",
      "\n",
      "/home/marco/anaconda3/lib/python3.9/site-packages/sklearn/metrics/_classification.py:1318: UndefinedMetricWarning: Precision is ill-defined and being set to 0.0 due to no predicted samples. Use `zero_division` parameter to control this behavior.\n",
      "  _warn_prf(average, modifier, msg_start, len(result))\n",
      "\n",
      "/home/marco/anaconda3/lib/python3.9/site-packages/sklearn/metrics/_classification.py:1318: UndefinedMetricWarning: Precision is ill-defined and being set to 0.0 due to no predicted samples. Use `zero_division` parameter to control this behavior.\n",
      "  _warn_prf(average, modifier, msg_start, len(result))\n",
      "\n"
     ]
    },
    {
     "name": "stdout",
     "output_type": "stream",
     "text": [
      "\r",
      " 84%|████████▍ | 42/50 [18:17<03:01, 22.74s/trial, best loss: -0.761]"
     ]
    },
    {
     "name": "stderr",
     "output_type": "stream",
     "text": [
      "2023/01/31 17:36:25 WARNING mlflow.utils.autologging_utils: You are using an unsupported version of xgboost. If you encounter errors during autologging, try upgrading / downgrading xgboost to a supported version, or try upgrading MLflow.\n",
      "\n",
      "/home/marco/anaconda3/lib/python3.9/site-packages/xgboost/sklearn.py:1395: UserWarning: `use_label_encoder` is deprecated in 1.7.0.\n",
      "  warnings.warn(\"`use_label_encoder` is deprecated in 1.7.0.\")\n",
      "\n"
     ]
    },
    {
     "name": "stdout",
     "output_type": "stream",
     "text": [
      "\r",
      " 86%|████████▌ | 43/50 [18:40<02:38, 22.66s/trial, best loss: -0.761]"
     ]
    },
    {
     "name": "stderr",
     "output_type": "stream",
     "text": [
      "2023/01/31 17:36:47 WARNING mlflow.utils.autologging_utils: You are using an unsupported version of xgboost. If you encounter errors during autologging, try upgrading / downgrading xgboost to a supported version, or try upgrading MLflow.\n",
      "\n",
      "/home/marco/anaconda3/lib/python3.9/site-packages/xgboost/sklearn.py:1395: UserWarning: `use_label_encoder` is deprecated in 1.7.0.\n",
      "  warnings.warn(\"`use_label_encoder` is deprecated in 1.7.0.\")\n",
      "\n",
      "/home/marco/anaconda3/lib/python3.9/site-packages/sklearn/metrics/_classification.py:1318: UndefinedMetricWarning: Precision is ill-defined and being set to 0.0 due to no predicted samples. Use `zero_division` parameter to control this behavior.\n",
      "  _warn_prf(average, modifier, msg_start, len(result))\n",
      "\n",
      "/home/marco/anaconda3/lib/python3.9/site-packages/sklearn/metrics/_classification.py:1318: UndefinedMetricWarning: Precision is ill-defined and being set to 0.0 due to no predicted samples. Use `zero_division` parameter to control this behavior.\n",
      "  _warn_prf(average, modifier, msg_start, len(result))\n",
      "\n"
     ]
    },
    {
     "name": "stdout",
     "output_type": "stream",
     "text": [
      "\r",
      " 88%|████████▊ | 44/50 [18:57<02:06, 21.09s/trial, best loss: -0.761]"
     ]
    },
    {
     "name": "stderr",
     "output_type": "stream",
     "text": [
      "2023/01/31 17:37:04 WARNING mlflow.utils.autologging_utils: You are using an unsupported version of xgboost. If you encounter errors during autologging, try upgrading / downgrading xgboost to a supported version, or try upgrading MLflow.\n",
      "\n",
      "/home/marco/anaconda3/lib/python3.9/site-packages/xgboost/sklearn.py:1395: UserWarning: `use_label_encoder` is deprecated in 1.7.0.\n",
      "  warnings.warn(\"`use_label_encoder` is deprecated in 1.7.0.\")\n",
      "\n"
     ]
    },
    {
     "name": "stdout",
     "output_type": "stream",
     "text": [
      "\r",
      " 90%|█████████ | 45/50 [19:20<01:47, 21.48s/trial, best loss: -0.761]"
     ]
    },
    {
     "name": "stderr",
     "output_type": "stream",
     "text": [
      "2023/01/31 17:37:27 WARNING mlflow.utils.autologging_utils: You are using an unsupported version of xgboost. If you encounter errors during autologging, try upgrading / downgrading xgboost to a supported version, or try upgrading MLflow.\n",
      "\n",
      "/home/marco/anaconda3/lib/python3.9/site-packages/xgboost/sklearn.py:1395: UserWarning: `use_label_encoder` is deprecated in 1.7.0.\n",
      "  warnings.warn(\"`use_label_encoder` is deprecated in 1.7.0.\")\n",
      "\n"
     ]
    },
    {
     "name": "stdout",
     "output_type": "stream",
     "text": [
      "\r",
      " 92%|█████████▏| 46/50 [19:45<01:31, 22.76s/trial, best loss: -0.761]"
     ]
    },
    {
     "name": "stderr",
     "output_type": "stream",
     "text": [
      "2023/01/31 17:37:53 WARNING mlflow.utils.autologging_utils: You are using an unsupported version of xgboost. If you encounter errors during autologging, try upgrading / downgrading xgboost to a supported version, or try upgrading MLflow.\n",
      "\n",
      "/home/marco/anaconda3/lib/python3.9/site-packages/xgboost/sklearn.py:1395: UserWarning: `use_label_encoder` is deprecated in 1.7.0.\n",
      "  warnings.warn(\"`use_label_encoder` is deprecated in 1.7.0.\")\n",
      "\n",
      "2023/01/31 17:38:04 ERROR mlflow.xgboost: Failed to log feature importance plot. XGBoost autologging will ignore the failure and continue. Exception: \n",
      "Traceback (most recent call last):\n",
      "  File \"/home/marco/anaconda3/lib/python3.9/site-packages/mlflow/xgboost/__init__.py\", line 657, in train_impl\n",
      "    features, importance = zip(*imp.items())\n",
      "ValueError: not enough values to unpack (expected 2, got 0)\n",
      "\n",
      "/home/marco/anaconda3/lib/python3.9/site-packages/sklearn/metrics/_classification.py:1318: UndefinedMetricWarning: Precision is ill-defined and being set to 0.0 due to no predicted samples. Use `zero_division` parameter to control this behavior.\n",
      "  _warn_prf(average, modifier, msg_start, len(result))\n",
      "\n",
      "/home/marco/anaconda3/lib/python3.9/site-packages/sklearn/metrics/_classification.py:1318: UndefinedMetricWarning: Precision is ill-defined and being set to 0.0 due to no predicted samples. Use `zero_division` parameter to control this behavior.\n",
      "  _warn_prf(average, modifier, msg_start, len(result))\n",
      "\n"
     ]
    },
    {
     "name": "stdout",
     "output_type": "stream",
     "text": [
      "\r",
      " 94%|█████████▍| 47/50 [20:00<01:01, 20.38s/trial, best loss: -0.761]"
     ]
    },
    {
     "name": "stderr",
     "output_type": "stream",
     "text": [
      "2023/01/31 17:38:07 WARNING mlflow.utils.autologging_utils: You are using an unsupported version of xgboost. If you encounter errors during autologging, try upgrading / downgrading xgboost to a supported version, or try upgrading MLflow.\n",
      "\n",
      "/home/marco/anaconda3/lib/python3.9/site-packages/xgboost/sklearn.py:1395: UserWarning: `use_label_encoder` is deprecated in 1.7.0.\n",
      "  warnings.warn(\"`use_label_encoder` is deprecated in 1.7.0.\")\n",
      "\n",
      "/home/marco/anaconda3/lib/python3.9/site-packages/sklearn/metrics/_classification.py:1318: UndefinedMetricWarning: Precision is ill-defined and being set to 0.0 due to no predicted samples. Use `zero_division` parameter to control this behavior.\n",
      "  _warn_prf(average, modifier, msg_start, len(result))\n",
      "\n",
      "/home/marco/anaconda3/lib/python3.9/site-packages/sklearn/metrics/_classification.py:1318: UndefinedMetricWarning: Precision is ill-defined and being set to 0.0 due to no predicted samples. Use `zero_division` parameter to control this behavior.\n",
      "  _warn_prf(average, modifier, msg_start, len(result))\n",
      "\n"
     ]
    },
    {
     "name": "stdout",
     "output_type": "stream",
     "text": [
      "\r",
      " 96%|█████████▌| 48/50 [20:21<00:40, 20.37s/trial, best loss: -0.761]"
     ]
    },
    {
     "name": "stderr",
     "output_type": "stream",
     "text": [
      "2023/01/31 17:38:28 WARNING mlflow.utils.autologging_utils: You are using an unsupported version of xgboost. If you encounter errors during autologging, try upgrading / downgrading xgboost to a supported version, or try upgrading MLflow.\n",
      "\n",
      "/home/marco/anaconda3/lib/python3.9/site-packages/xgboost/sklearn.py:1395: UserWarning: `use_label_encoder` is deprecated in 1.7.0.\n",
      "  warnings.warn(\"`use_label_encoder` is deprecated in 1.7.0.\")\n",
      "\n",
      "2023/01/31 17:38:50 ERROR mlflow.xgboost: Failed to log feature importance plot. XGBoost autologging will ignore the failure and continue. Exception: \n",
      "Traceback (most recent call last):\n",
      "  File \"/home/marco/anaconda3/lib/python3.9/site-packages/mlflow/xgboost/__init__.py\", line 657, in train_impl\n",
      "    features, importance = zip(*imp.items())\n",
      "ValueError: not enough values to unpack (expected 2, got 0)\n",
      "\n",
      "/home/marco/anaconda3/lib/python3.9/site-packages/sklearn/metrics/_classification.py:1318: UndefinedMetricWarning: Precision is ill-defined and being set to 0.0 due to no predicted samples. Use `zero_division` parameter to control this behavior.\n",
      "  _warn_prf(average, modifier, msg_start, len(result))\n",
      "\n",
      "/home/marco/anaconda3/lib/python3.9/site-packages/sklearn/metrics/_classification.py:1318: UndefinedMetricWarning: Precision is ill-defined and being set to 0.0 due to no predicted samples. Use `zero_division` parameter to control this behavior.\n",
      "  _warn_prf(average, modifier, msg_start, len(result))\n",
      "\n"
     ]
    },
    {
     "name": "stdout",
     "output_type": "stream",
     "text": [
      "\r",
      " 98%|█████████▊| 49/50 [20:46<00:21, 21.78s/trial, best loss: -0.761]"
     ]
    },
    {
     "name": "stderr",
     "output_type": "stream",
     "text": [
      "2023/01/31 17:38:53 WARNING mlflow.utils.autologging_utils: You are using an unsupported version of xgboost. If you encounter errors during autologging, try upgrading / downgrading xgboost to a supported version, or try upgrading MLflow.\n",
      "\n",
      "/home/marco/anaconda3/lib/python3.9/site-packages/xgboost/sklearn.py:1395: UserWarning: `use_label_encoder` is deprecated in 1.7.0.\n",
      "  warnings.warn(\"`use_label_encoder` is deprecated in 1.7.0.\")\n",
      "\n"
     ]
    },
    {
     "name": "stdout",
     "output_type": "stream",
     "text": [
      "100%|██████████| 50/50 [21:08<00:00, 25.36s/trial, best loss: -0.761]\n"
     ]
    }
   ],
   "source": [
    "# Setting search space for xgboost model\n",
    "search_space = {\n",
    "    'objective': 'binary:logistic',\n",
    "    'eval_metric': 'auc',\n",
    "    'max_depth': scope.int(hp.quniform('max_depth', 4, 15, 1)),\n",
    "    'subsample': hp.uniform('subsample', .5, 1.0),\n",
    "    'learning_rate': hp.loguniform('learning_rate', -7, 0),\n",
    "    'min_child_weight': hp.loguniform('min_child_weight', -1, 7),\n",
    "    'reg_alpha': hp.loguniform('reg_alpha', -10, 10),\n",
    "    'reg_lambda': hp.loguniform('reg_lambda', -10, 10),\n",
    "    'gamma': hp.loguniform('gamma', -10, 10),\n",
    "    'use_label_encoder': False,\n",
    "    'verbosity': 0,\n",
    "    'random_state': RANDOM_SEED\n",
    "}\n",
    " \n",
    "try:\n",
    "    EXPERIMENT_ID = mlflow.create_experiment('xgboost-hyperopt')\n",
    "except:\n",
    "    EXPERIMENT_ID = dict(mlflow.get_experiment_by_name('xgboost-hyperopt'))['experiment_id']\n",
    "\n",
    "def train_model(params):\n",
    "    \"\"\"\n",
    "    Creates a hyperopt training model funciton that sweeps through params in a nested run\n",
    "    Args:\n",
    "        params: hyperparameters selected from the search space\n",
    "    Returns:\n",
    "        hyperopt status and the loss metric value\n",
    "    \"\"\"\n",
    "    # With MLflow autologging, hyperparameters and the trained model are automatically logged to MLflow.\n",
    "    # This sometimes doesn't log everything you may want so I usually log my own metrics and params just in case\n",
    "    mlflow.xgboost.autolog()\n",
    "\n",
    "    # \n",
    "    with mlflow.start_run(experiment_id=EXPERIMENT_ID, nested=True):\n",
    "        # Training xgboost classifier\n",
    "        model = xgb.XGBClassifier(**params)\n",
    "        model = model.fit(X_train, y_train)\n",
    "\n",
    "        # Predicting values for training and validation data, and getting prediction probabilities\n",
    "        y_train_pred = model.predict(X_train)\n",
    "        y_train_pred_proba = model.predict_proba(X_train)[:, 1]\n",
    "        y_val_pred = model.predict(X_val)\n",
    "        y_val_pred_proba = model.predict_proba(X_val)[:, 1]\n",
    "\n",
    "        # Evaluating model metrics for training set predictions and validation set predictions\n",
    "        # Creating training and validation metrics dictionaries to make logging in mlflow easier\n",
    "        metric_names = ['accuracy', 'precision', 'recall', 'f1', 'aucroc']\n",
    "        # Training evaluation metrics\n",
    "        train_accuracy = accuracy_score(y_train, y_train_pred).round(3)\n",
    "        train_precision = precision_score(y_train, y_train_pred).round(3)\n",
    "        train_recall = recall_score(y_train, y_train_pred).round(3)\n",
    "        train_f1 = f1_score(y_train, y_train_pred).round(3)\n",
    "        train_aucroc = roc_auc_score(y_train, y_train_pred_proba).round(3)\n",
    "        training_metrics = {\n",
    "            'Accuracy': train_accuracy, \n",
    "            'Precision': train_precision, \n",
    "            'Recall': train_recall, \n",
    "            'F1': train_f1, \n",
    "            'AUCROC': train_aucroc\n",
    "        }\n",
    "        training_metrics_values = list(training_metrics.values())\n",
    "\n",
    "        # Validation evaluation metrics\n",
    "        val_accuracy = accuracy_score(y_val, y_val_pred).round(3)\n",
    "        val_precision = precision_score(y_val, y_val_pred).round(3)\n",
    "        val_recall = recall_score(y_val, y_val_pred).round(3)\n",
    "        val_f1 = f1_score(y_val, y_val_pred).round(3)\n",
    "        val_aucroc = roc_auc_score(y_val, y_val_pred_proba).round(3)\n",
    "        validation_metrics = {\n",
    "            'Accuracy': val_accuracy, \n",
    "            'Precision': val_precision, \n",
    "            'Recall': val_recall, \n",
    "            'F1': val_f1, \n",
    "            'AUCROC': val_aucroc\n",
    "        }\n",
    "        validation_metrics_values = list(validation_metrics.values())\n",
    "        \n",
    "        # Logging model signature, class, and name\n",
    "        signature = infer_signature(X_train, y_val_pred)\n",
    "        mlflow.xgboost.log_model(model, 'model', signature=signature)\n",
    "        mlflow.set_tag('estimator_name', model.__class__.__name__)\n",
    "        mlflow.set_tag('estimator_class', model.__class__)\n",
    "\n",
    "        # Logging each metric\n",
    "        for name, metric in list(zip(metric_names, training_metrics_values)):\n",
    "            mlflow.log_metric(f'training_{name}', metric)\n",
    "        for name, metric in list(zip(metric_names, validation_metrics_values)):\n",
    "            mlflow.log_metric(f'validation_{name}', metric)\n",
    "\n",
    "        # Set the loss to -1*validation auc roc so fmin maximizes the it\n",
    "        return {'status': STATUS_OK, 'loss': -1*validation_metrics['AUCROC']}\n",
    "\n",
    "# Greater parallelism will lead to speedups, but a less optimal hyperparameter sweep.\n",
    "# A reasonable value for parallelism is the square root of max_evals.\n",
    "# spark_trials = SparkTrials()\n",
    "# Will need spark configured and installed to run. Add this to fmin function below like so:\n",
    "# trials = spark_trials\n",
    "trials = Trials()\n",
    "\n",
    "# Run fmin within an MLflow run context so that each hyperparameter configuration is logged as a child run of a parent\n",
    "# run called \"xgboost_models\" .\n",
    "with mlflow.start_run(experiment_id=EXPERIMENT_ID, run_name='xgboost_models'):\n",
    "    xgboost_best_params = fmin(\n",
    "        fn=train_model, \n",
    "        space=search_space, \n",
    "        algo=tpe.suggest,\n",
    "        trials=trials,\n",
    "        max_evals=50\n",
    "    )"
   ]
  },
  {
   "cell_type": "code",
   "execution_count": 44,
   "id": "f36908a8",
   "metadata": {},
   "outputs": [
    {
     "data": {
      "text/plain": [
       "array([0, 0, 0, ..., 0, 0, 0])"
      ]
     },
     "execution_count": 44,
     "metadata": {},
     "output_type": "execute_result"
    }
   ],
   "source": [
    "y_test_pred"
   ]
  },
  {
   "cell_type": "code",
   "execution_count": 42,
   "id": "cf4da113",
   "metadata": {},
   "outputs": [
    {
     "ename": "ValueError",
     "evalue": "Found input variables with inconsistent numbers of samples: [57, 48744]",
     "output_type": "error",
     "traceback": [
      "\u001b[0;31m---------------------------------------------------------------------------\u001b[0m",
      "\u001b[0;31mValueError\u001b[0m                                Traceback (most recent call last)",
      "\u001b[0;32m/tmp/ipykernel_3440/792629479.py\u001b[0m in \u001b[0;36m<module>\u001b[0;34m\u001b[0m\n\u001b[1;32m     11\u001b[0m \u001b[0my_test_pred_proba\u001b[0m \u001b[0;34m=\u001b[0m \u001b[0mbest_model\u001b[0m\u001b[0;34m.\u001b[0m\u001b[0mpredict_proba\u001b[0m\u001b[0;34m(\u001b[0m\u001b[0mX_test\u001b[0m\u001b[0;34m)\u001b[0m\u001b[0;34m[\u001b[0m\u001b[0;34m:\u001b[0m\u001b[0;34m,\u001b[0m \u001b[0;36m1\u001b[0m\u001b[0;34m]\u001b[0m\u001b[0;34m\u001b[0m\u001b[0;34m\u001b[0m\u001b[0m\n\u001b[1;32m     12\u001b[0m \u001b[0;34m\u001b[0m\u001b[0m\n\u001b[0;32m---> 13\u001b[0;31m \u001b[0mtest_accuracy\u001b[0m \u001b[0;34m=\u001b[0m \u001b[0maccuracy_score\u001b[0m\u001b[0;34m(\u001b[0m\u001b[0my_test\u001b[0m\u001b[0;34m,\u001b[0m \u001b[0my_test_pred\u001b[0m\u001b[0;34m)\u001b[0m\u001b[0;34m.\u001b[0m\u001b[0mround\u001b[0m\u001b[0;34m(\u001b[0m\u001b[0;36m3\u001b[0m\u001b[0;34m)\u001b[0m\u001b[0;34m\u001b[0m\u001b[0;34m\u001b[0m\u001b[0m\n\u001b[0m\u001b[1;32m     14\u001b[0m \u001b[0mtest_precision\u001b[0m \u001b[0;34m=\u001b[0m \u001b[0mprecision_score\u001b[0m\u001b[0;34m(\u001b[0m\u001b[0my_test\u001b[0m\u001b[0;34m,\u001b[0m \u001b[0my_test_pred\u001b[0m\u001b[0;34m)\u001b[0m\u001b[0;34m.\u001b[0m\u001b[0mround\u001b[0m\u001b[0;34m(\u001b[0m\u001b[0;36m3\u001b[0m\u001b[0;34m)\u001b[0m\u001b[0;34m\u001b[0m\u001b[0;34m\u001b[0m\u001b[0m\n\u001b[1;32m     15\u001b[0m \u001b[0mtest_recall\u001b[0m \u001b[0;34m=\u001b[0m \u001b[0mrecall_score\u001b[0m\u001b[0;34m(\u001b[0m\u001b[0my_test\u001b[0m\u001b[0;34m,\u001b[0m \u001b[0my_test_pred\u001b[0m\u001b[0;34m)\u001b[0m\u001b[0;34m.\u001b[0m\u001b[0mround\u001b[0m\u001b[0;34m(\u001b[0m\u001b[0;36m3\u001b[0m\u001b[0;34m)\u001b[0m\u001b[0;34m\u001b[0m\u001b[0;34m\u001b[0m\u001b[0m\n",
      "\u001b[0;32m~/anaconda3/lib/python3.9/site-packages/mlflow/utils/autologging_utils/safety.py\u001b[0m in \u001b[0;36msafe_patch_function\u001b[0;34m(*args, **kwargs)\u001b[0m\n\u001b[1;32m    553\u001b[0m                         \u001b[0mpatch_function\u001b[0m\u001b[0;34m.\u001b[0m\u001b[0mcall\u001b[0m\u001b[0;34m(\u001b[0m\u001b[0mcall_original\u001b[0m\u001b[0;34m,\u001b[0m \u001b[0;34m*\u001b[0m\u001b[0margs\u001b[0m\u001b[0;34m,\u001b[0m \u001b[0;34m**\u001b[0m\u001b[0mkwargs\u001b[0m\u001b[0;34m)\u001b[0m\u001b[0;34m\u001b[0m\u001b[0;34m\u001b[0m\u001b[0m\n\u001b[1;32m    554\u001b[0m                     \u001b[0;32melse\u001b[0m\u001b[0;34m:\u001b[0m\u001b[0;34m\u001b[0m\u001b[0;34m\u001b[0m\u001b[0m\n\u001b[0;32m--> 555\u001b[0;31m                         \u001b[0mpatch_function\u001b[0m\u001b[0;34m(\u001b[0m\u001b[0mcall_original\u001b[0m\u001b[0;34m,\u001b[0m \u001b[0;34m*\u001b[0m\u001b[0margs\u001b[0m\u001b[0;34m,\u001b[0m \u001b[0;34m**\u001b[0m\u001b[0mkwargs\u001b[0m\u001b[0;34m)\u001b[0m\u001b[0;34m\u001b[0m\u001b[0;34m\u001b[0m\u001b[0m\n\u001b[0m\u001b[1;32m    556\u001b[0m \u001b[0;34m\u001b[0m\u001b[0m\n\u001b[1;32m    557\u001b[0m                     \u001b[0msession\u001b[0m\u001b[0;34m.\u001b[0m\u001b[0mstate\u001b[0m \u001b[0;34m=\u001b[0m \u001b[0;34m\"succeeded\"\u001b[0m\u001b[0;34m\u001b[0m\u001b[0;34m\u001b[0m\u001b[0m\n",
      "\u001b[0;32m~/anaconda3/lib/python3.9/site-packages/mlflow/sklearn/__init__.py\u001b[0m in \u001b[0;36mpatched_metric_api\u001b[0;34m(original, *args, **kwargs)\u001b[0m\n\u001b[1;32m   1603\u001b[0m             \u001b[0;31m# to avoid this, call disable_log_post_training_metrics to avoid nested patch\u001b[0m\u001b[0;34m\u001b[0m\u001b[0;34m\u001b[0m\u001b[0m\n\u001b[1;32m   1604\u001b[0m             \u001b[0;32mwith\u001b[0m \u001b[0m_AUTOLOGGING_METRICS_MANAGER\u001b[0m\u001b[0;34m.\u001b[0m\u001b[0mdisable_log_post_training_metrics\u001b[0m\u001b[0;34m(\u001b[0m\u001b[0;34m)\u001b[0m\u001b[0;34m:\u001b[0m\u001b[0;34m\u001b[0m\u001b[0;34m\u001b[0m\u001b[0m\n\u001b[0;32m-> 1605\u001b[0;31m                 \u001b[0mmetric\u001b[0m \u001b[0;34m=\u001b[0m \u001b[0moriginal\u001b[0m\u001b[0;34m(\u001b[0m\u001b[0;34m*\u001b[0m\u001b[0margs\u001b[0m\u001b[0;34m,\u001b[0m \u001b[0;34m**\u001b[0m\u001b[0mkwargs\u001b[0m\u001b[0;34m)\u001b[0m\u001b[0;34m\u001b[0m\u001b[0;34m\u001b[0m\u001b[0m\n\u001b[0m\u001b[1;32m   1606\u001b[0m \u001b[0;34m\u001b[0m\u001b[0m\n\u001b[1;32m   1607\u001b[0m             \u001b[0;32mif\u001b[0m \u001b[0m_AUTOLOGGING_METRICS_MANAGER\u001b[0m\u001b[0;34m.\u001b[0m\u001b[0mis_metric_value_loggable\u001b[0m\u001b[0;34m(\u001b[0m\u001b[0mmetric\u001b[0m\u001b[0;34m)\u001b[0m\u001b[0;34m:\u001b[0m\u001b[0;34m\u001b[0m\u001b[0;34m\u001b[0m\u001b[0m\n",
      "\u001b[0;32m~/anaconda3/lib/python3.9/site-packages/mlflow/utils/autologging_utils/safety.py\u001b[0m in \u001b[0;36mcall_original\u001b[0;34m(*og_args, **og_kwargs)\u001b[0m\n\u001b[1;32m    534\u001b[0m                                 \u001b[0;32mreturn\u001b[0m \u001b[0moriginal_result\u001b[0m\u001b[0;34m\u001b[0m\u001b[0;34m\u001b[0m\u001b[0m\n\u001b[1;32m    535\u001b[0m \u001b[0;34m\u001b[0m\u001b[0m\n\u001b[0;32m--> 536\u001b[0;31m                         \u001b[0;32mreturn\u001b[0m \u001b[0mcall_original_fn_with_event_logging\u001b[0m\u001b[0;34m(\u001b[0m\u001b[0m_original_fn\u001b[0m\u001b[0;34m,\u001b[0m \u001b[0mog_args\u001b[0m\u001b[0;34m,\u001b[0m \u001b[0mog_kwargs\u001b[0m\u001b[0;34m)\u001b[0m\u001b[0;34m\u001b[0m\u001b[0;34m\u001b[0m\u001b[0m\n\u001b[0m\u001b[1;32m    537\u001b[0m \u001b[0;34m\u001b[0m\u001b[0m\n\u001b[1;32m    538\u001b[0m                     \u001b[0;31m# Apply the name, docstring, and signature of `original` to `call_original`.\u001b[0m\u001b[0;34m\u001b[0m\u001b[0;34m\u001b[0m\u001b[0m\n",
      "\u001b[0;32m~/anaconda3/lib/python3.9/site-packages/mlflow/utils/autologging_utils/safety.py\u001b[0m in \u001b[0;36mcall_original_fn_with_event_logging\u001b[0;34m(original_fn, og_args, og_kwargs)\u001b[0m\n\u001b[1;32m    469\u001b[0m                         \u001b[0mog_kwargs\u001b[0m\u001b[0;34m,\u001b[0m\u001b[0;34m\u001b[0m\u001b[0;34m\u001b[0m\u001b[0m\n\u001b[1;32m    470\u001b[0m                     )\n\u001b[0;32m--> 471\u001b[0;31m                     \u001b[0moriginal_fn_result\u001b[0m \u001b[0;34m=\u001b[0m \u001b[0moriginal_fn\u001b[0m\u001b[0;34m(\u001b[0m\u001b[0;34m*\u001b[0m\u001b[0mog_args\u001b[0m\u001b[0;34m,\u001b[0m \u001b[0;34m**\u001b[0m\u001b[0mog_kwargs\u001b[0m\u001b[0;34m)\u001b[0m\u001b[0;34m\u001b[0m\u001b[0;34m\u001b[0m\u001b[0m\n\u001b[0m\u001b[1;32m    472\u001b[0m \u001b[0;34m\u001b[0m\u001b[0m\n\u001b[1;32m    473\u001b[0m                     try_log_autologging_event(\n",
      "\u001b[0;32m~/anaconda3/lib/python3.9/site-packages/mlflow/utils/autologging_utils/safety.py\u001b[0m in \u001b[0;36m_original_fn\u001b[0;34m(*_og_args, **_og_kwargs)\u001b[0m\n\u001b[1;32m    531\u001b[0m                                 \u001b[0mreroute_warnings\u001b[0m\u001b[0;34m=\u001b[0m\u001b[0;32mFalse\u001b[0m\u001b[0;34m,\u001b[0m\u001b[0;34m\u001b[0m\u001b[0;34m\u001b[0m\u001b[0m\n\u001b[1;32m    532\u001b[0m                             ):\n\u001b[0;32m--> 533\u001b[0;31m                                 \u001b[0moriginal_result\u001b[0m \u001b[0;34m=\u001b[0m \u001b[0moriginal\u001b[0m\u001b[0;34m(\u001b[0m\u001b[0;34m*\u001b[0m\u001b[0m_og_args\u001b[0m\u001b[0;34m,\u001b[0m \u001b[0;34m**\u001b[0m\u001b[0m_og_kwargs\u001b[0m\u001b[0;34m)\u001b[0m\u001b[0;34m\u001b[0m\u001b[0;34m\u001b[0m\u001b[0m\n\u001b[0m\u001b[1;32m    534\u001b[0m                                 \u001b[0;32mreturn\u001b[0m \u001b[0moriginal_result\u001b[0m\u001b[0;34m\u001b[0m\u001b[0;34m\u001b[0m\u001b[0m\n\u001b[1;32m    535\u001b[0m \u001b[0;34m\u001b[0m\u001b[0m\n",
      "\u001b[0;32m~/anaconda3/lib/python3.9/site-packages/sklearn/metrics/_classification.py\u001b[0m in \u001b[0;36maccuracy_score\u001b[0;34m(y_true, y_pred, normalize, sample_weight)\u001b[0m\n\u001b[1;32m    209\u001b[0m \u001b[0;34m\u001b[0m\u001b[0m\n\u001b[1;32m    210\u001b[0m     \u001b[0;31m# Compute accuracy for each possible representation\u001b[0m\u001b[0;34m\u001b[0m\u001b[0;34m\u001b[0m\u001b[0m\n\u001b[0;32m--> 211\u001b[0;31m     \u001b[0my_type\u001b[0m\u001b[0;34m,\u001b[0m \u001b[0my_true\u001b[0m\u001b[0;34m,\u001b[0m \u001b[0my_pred\u001b[0m \u001b[0;34m=\u001b[0m \u001b[0m_check_targets\u001b[0m\u001b[0;34m(\u001b[0m\u001b[0my_true\u001b[0m\u001b[0;34m,\u001b[0m \u001b[0my_pred\u001b[0m\u001b[0;34m)\u001b[0m\u001b[0;34m\u001b[0m\u001b[0;34m\u001b[0m\u001b[0m\n\u001b[0m\u001b[1;32m    212\u001b[0m     \u001b[0mcheck_consistent_length\u001b[0m\u001b[0;34m(\u001b[0m\u001b[0my_true\u001b[0m\u001b[0;34m,\u001b[0m \u001b[0my_pred\u001b[0m\u001b[0;34m,\u001b[0m \u001b[0msample_weight\u001b[0m\u001b[0;34m)\u001b[0m\u001b[0;34m\u001b[0m\u001b[0;34m\u001b[0m\u001b[0m\n\u001b[1;32m    213\u001b[0m     \u001b[0;32mif\u001b[0m \u001b[0my_type\u001b[0m\u001b[0;34m.\u001b[0m\u001b[0mstartswith\u001b[0m\u001b[0;34m(\u001b[0m\u001b[0;34m\"multilabel\"\u001b[0m\u001b[0;34m)\u001b[0m\u001b[0;34m:\u001b[0m\u001b[0;34m\u001b[0m\u001b[0;34m\u001b[0m\u001b[0m\n",
      "\u001b[0;32m~/anaconda3/lib/python3.9/site-packages/sklearn/metrics/_classification.py\u001b[0m in \u001b[0;36m_check_targets\u001b[0;34m(y_true, y_pred)\u001b[0m\n\u001b[1;32m     82\u001b[0m     \u001b[0my_pred\u001b[0m \u001b[0;34m:\u001b[0m \u001b[0marray\u001b[0m \u001b[0;32mor\u001b[0m \u001b[0mindicator\u001b[0m \u001b[0mmatrix\u001b[0m\u001b[0;34m\u001b[0m\u001b[0;34m\u001b[0m\u001b[0m\n\u001b[1;32m     83\u001b[0m     \"\"\"\n\u001b[0;32m---> 84\u001b[0;31m     \u001b[0mcheck_consistent_length\u001b[0m\u001b[0;34m(\u001b[0m\u001b[0my_true\u001b[0m\u001b[0;34m,\u001b[0m \u001b[0my_pred\u001b[0m\u001b[0;34m)\u001b[0m\u001b[0;34m\u001b[0m\u001b[0;34m\u001b[0m\u001b[0m\n\u001b[0m\u001b[1;32m     85\u001b[0m     \u001b[0mtype_true\u001b[0m \u001b[0;34m=\u001b[0m \u001b[0mtype_of_target\u001b[0m\u001b[0;34m(\u001b[0m\u001b[0my_true\u001b[0m\u001b[0;34m)\u001b[0m\u001b[0;34m\u001b[0m\u001b[0;34m\u001b[0m\u001b[0m\n\u001b[1;32m     86\u001b[0m     \u001b[0mtype_pred\u001b[0m \u001b[0;34m=\u001b[0m \u001b[0mtype_of_target\u001b[0m\u001b[0;34m(\u001b[0m\u001b[0my_pred\u001b[0m\u001b[0;34m)\u001b[0m\u001b[0;34m\u001b[0m\u001b[0;34m\u001b[0m\u001b[0m\n",
      "\u001b[0;32m~/anaconda3/lib/python3.9/site-packages/sklearn/utils/validation.py\u001b[0m in \u001b[0;36mcheck_consistent_length\u001b[0;34m(*arrays)\u001b[0m\n\u001b[1;32m    330\u001b[0m     \u001b[0muniques\u001b[0m \u001b[0;34m=\u001b[0m \u001b[0mnp\u001b[0m\u001b[0;34m.\u001b[0m\u001b[0munique\u001b[0m\u001b[0;34m(\u001b[0m\u001b[0mlengths\u001b[0m\u001b[0;34m)\u001b[0m\u001b[0;34m\u001b[0m\u001b[0;34m\u001b[0m\u001b[0m\n\u001b[1;32m    331\u001b[0m     \u001b[0;32mif\u001b[0m \u001b[0mlen\u001b[0m\u001b[0;34m(\u001b[0m\u001b[0muniques\u001b[0m\u001b[0;34m)\u001b[0m \u001b[0;34m>\u001b[0m \u001b[0;36m1\u001b[0m\u001b[0;34m:\u001b[0m\u001b[0;34m\u001b[0m\u001b[0;34m\u001b[0m\u001b[0m\n\u001b[0;32m--> 332\u001b[0;31m         raise ValueError(\n\u001b[0m\u001b[1;32m    333\u001b[0m             \u001b[0;34m\"Found input variables with inconsistent numbers of samples: %r\"\u001b[0m\u001b[0;34m\u001b[0m\u001b[0;34m\u001b[0m\u001b[0m\n\u001b[1;32m    334\u001b[0m             \u001b[0;34m%\u001b[0m \u001b[0;34m[\u001b[0m\u001b[0mint\u001b[0m\u001b[0;34m(\u001b[0m\u001b[0ml\u001b[0m\u001b[0;34m)\u001b[0m \u001b[0;32mfor\u001b[0m \u001b[0ml\u001b[0m \u001b[0;32min\u001b[0m \u001b[0mlengths\u001b[0m\u001b[0;34m]\u001b[0m\u001b[0;34m\u001b[0m\u001b[0;34m\u001b[0m\u001b[0m\n",
      "\u001b[0;31mValueError\u001b[0m: Found input variables with inconsistent numbers of samples: [57, 48744]"
     ]
    }
   ],
   "source": [
    "# Querying mlflow api instead of using web UI. Sorting by validation aucroc and then getting top run for best run.\n",
    "runs_df = mlflow.search_runs(experiment_ids=EXPERIMENT_ID, order_by=['metrics.validation_aucroc DESC'])\n",
    "best_run = runs_df.iloc[0]\n",
    "best_run_id = best_run['run_id']\n",
    "best_artifact_uri = best_run['artifact_uri']\n",
    "# Loading model from best run\n",
    "best_model = mlflow.xgboost.load_model('runs:/' + best_run_id + '/model')\n",
    "\n",
    "# Predicting and evaluating best model on holdout set\n",
    "y_test_pred = best_model.predict(X_test)\n",
    "y_test_pred_proba = best_model.predict_proba(X_test)[:, 1]\n",
    "\n",
    "test_accuracy = accuracy_score(y_test, y_test_pred).round(3)\n",
    "test_precision = precision_score(y_test, y_test_pred).round(3)\n",
    "test_recall = recall_score(y_test, y_test_pred).round(3)\n",
    "test_f1 = f1_score(y_test, y_test_pred).round(3)\n",
    "test_aucroc = roc_auc_score(y_test, y_test_pred_proba).round(3)\n",
    "\n",
    "print(f'Testing Accuracy: {test_accuracy}')\n",
    "print(f'Testing Precision: {test_precision}')\n",
    "print(f'Testing Recall: {test_recall}')\n",
    "print(f'Testing F1: {test_f1}')\n",
    "print(f'Testing AUCROC: {test_aucroc}')"
   ]
  },
  {
   "cell_type": "code",
   "execution_count": null,
   "id": "49a1d7d1",
   "metadata": {},
   "outputs": [],
   "source": [
    "model_details = mlflow.register_model(f'runs:/{best_run_id}/artifacts/model', 'XGBoostLoanPrediction')\n"
   ]
  },
  {
   "cell_type": "code",
   "execution_count": null,
   "id": "d01a9ec8",
   "metadata": {},
   "outputs": [],
   "source": [
    "\n",
    "client = MlflowClient()\n",
    "client.update_registered_model(\n",
    "  name=model_details.name,\n",
    "  description=\"\"\" \n",
    "  a) radius (mean of distances from center to points on the perimeter)\n",
    "  b) texture (standard deviation of gray-scale values)\n",
    "  c) perimeter\n",
    "  d) area\n",
    "  e) smoothness (local variation in radius lengths)\n",
    "  f) compactness (perimeter^2 / area - 1.0)\n",
    "  g) concavity (severity of concave portions of the contour)\n",
    "  h) concave points (number of concave portions of the contour)\n",
    "  i) symmetry\n",
    "  j) fractal dimension (\"coastline approximation\" - 1).\"\"\"\n",
    ")"
   ]
  },
  {
   "cell_type": "code",
   "execution_count": null,
   "id": "446d88aa",
   "metadata": {},
   "outputs": [],
   "source": [
    "client.update_model_version(\n",
    "  name=model_details.name,\n",
    "  version=model_details.version,\n",
    "  description='This model version is the first XGBoost model trained with HyperOpt for bayesian hyperparameter tuning.'\n",
    ")"
   ]
  },
  {
   "cell_type": "code",
   "execution_count": null,
   "id": "1b7d7066",
   "metadata": {},
   "outputs": [],
   "source": [
    "client.transition_model_version_stage(\n",
    "  name=model_details.name,\n",
    "  version=model_details.version,\n",
    "  stage='Production'\n",
    ")"
   ]
  },
  {
   "cell_type": "code",
   "execution_count": null,
   "id": "c2d013f9",
   "metadata": {},
   "outputs": [],
   "source": []
  },
  {
   "cell_type": "code",
   "execution_count": null,
   "id": "bc9690b5",
   "metadata": {},
   "outputs": [],
   "source": []
  },
  {
   "cell_type": "code",
   "execution_count": null,
   "id": "07ebbd21",
   "metadata": {},
   "outputs": [],
   "source": []
  }
 ],
 "metadata": {
  "kernelspec": {
   "display_name": "Python 3 (ipykernel)",
   "language": "python",
   "name": "python3"
  },
  "language_info": {
   "codemirror_mode": {
    "name": "ipython",
    "version": 3
   },
   "file_extension": ".py",
   "mimetype": "text/x-python",
   "name": "python",
   "nbconvert_exporter": "python",
   "pygments_lexer": "ipython3",
   "version": "3.9.13"
  },
  "vscode": {
   "interpreter": {
    "hash": "98196d4dbe1f1ef708063cfdfa3f5d553772201db731c31e0f9a204e6d38aa37"
   }
  }
 },
 "nbformat": 4,
 "nbformat_minor": 5
}
